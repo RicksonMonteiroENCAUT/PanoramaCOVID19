{
  "nbformat": 4,
  "nbformat_minor": 0,
  "metadata": {
    "colab": {
      "name": "Panorama do COVID-19 no Brasil.ipynb",
      "provenance": [],
      "collapsed_sections": [],
      "toc_visible": true,
      "include_colab_link": true
    },
    "kernelspec": {
      "name": "python3",
      "display_name": "Python 3"
    }
  },
  "cells": [
    {
      "cell_type": "markdown",
      "metadata": {
        "id": "view-in-github",
        "colab_type": "text"
      },
      "source": [
        "<a href=\"https://colab.research.google.com/github/RicksonMonteiroENCAUT/PanoramaCOVID19/blob/main/Panorama_do_COVID_19_no_Brasil.ipynb\" target=\"_parent\"><img src=\"https://colab.research.google.com/assets/colab-badge.svg\" alt=\"Open In Colab\"/></a>"
      ]
    },
    {
      "cell_type": "markdown",
      "metadata": {
        "id": "kLI0gJtzDGuQ"
      },
      "source": [
        "# Panorama do COVID-19\n",
        "\n",
        "O COVID-19 é uma doença causada pelo coronavírus SARS-COV-2. Os membros do coronavírus são muito comuns em animais, como o MERS-COV e o SARS-COV por exemplo. No entanto, em dezembro de 2019, o novo coronavírus SARS-COV-2, foi identificado em Whuan, na China, que foi disseminado ocasionando a pandemia atual.\n",
        "\n",
        "<center><img alt=\"Colaboratory logo\" width=\"50%\" src=\"https://raw.githubusercontent.com/RicksonMonteiroENCAUT/PanoramaCOVID19/master/achatar-o-conceito-de-curva-ilustrado_52683-38675.jpg\"></center>\n",
        "\n",
        "Alguns estudos como o publicados já desmentiram algumas informações falsas a respeito do COVID-19, no boletim técnico 009 pela Empresa Brasileira de Serviços hospitalares informam a ausência de uma relação direta entre a população de idosos e a taxa de insidência e mortalidade, sendo estes também influênciados por outros fatores, como densidade demográfica do local e falta de leitos disponíveis, por exemplo.\n",
        "\n",
        "Segundo a Organização Mundial de Saúde, 80% dos pacientes com COVID-19 podem ser assintomáticos ou oligossintomáticos, 20% requerem atendimento hospitalar, no qual 5% desses casos podem necessitar de suporte respiratório.\n",
        "\n",
        "<center><img alt=\"Colaboratory logo\" width=\"50%\" src=\"https://raw.githubusercontent.com/RicksonMonteiroENCAUT/PanoramaCOVID19/master/pessoa-lutando-contra-a-ilustracao-do-virus_52683-35834.jpg\"></center>\n",
        "\n",
        "Apesar da existência de algumas vacinas, a distribuição para toda população ainda é um problema. A melhor forma de prevenção acaba ainda sendo o isolamento social, uso de máscara e alcool em gel.  \n",
        "\n",
        "Este trabalho tem como o objetivo elevar a consciência a respeito da situação."
      ]
    },
    {
      "cell_type": "markdown",
      "metadata": {
        "id": "k1WEWOUOZZQP"
      },
      "source": [
        "##Obtenção dos Dados\n",
        "\n",
        "Escolher um conjunto de dados para a análise sobre este tema não é uma tarefa fácil. \n",
        "\n",
        "Apesar de estarmos caminhando para o segundo ano de pandemia, a existência de diferentes conjuntos de dados disponibilizados no âmbito estadual, nacional e não oficiais apresentam algumas discrepâncias em grande parte dos casos.\n",
        "\n",
        "Para essa análise, foi utilizado os conjunto de dados do *Our World in Data*(OWID), este é atualizado diariamente com os dados disponibilizados pelo Repositório de Dados COVID-19 do Center for Systems Science and Engineering (CSSE) da Universidade Johns Hopkins (JHU), também utilizam dados provenientes do Centro Europeu de Prevenção e Controle de Doenças (ECDC), alguns outros dados são coletados pela própria equipe do OWID e outras são obtidas diretamente de organizações como o Banco Mundial e as nações unidas.\n",
        "\n",
        "O Repositório que do *Our World in Data* pode ser encontrado [aqui](https://github.com/owid/covid-19-data/tree/master/public/data). O link para o dataset utilizado pode ser obtido nesse [link]( https://raw.githubusercontent.com/owid/covid-19-data/master/public/data/owid-covid-data.csv)."
      ]
    },
    {
      "cell_type": "markdown",
      "metadata": {
        "id": "vpXnkr2rU5uy"
      },
      "source": [
        "#Dicionário de Variáveis\n",
        "\n",
        "Abaixo é possível visualizar o que representa cada variável encontrada no conjunto de dados que será utilizado.\n",
        "\n",
        "`iso_code`: ISO 3166-1 alfa-3 - códigos de três letras do país\n",
        "\n",
        "`continent`: Continente da localização geográfica\n",
        "\n",
        "`location`: Localização geográfica\n",
        "\n",
        "`date`: Data de observação\n",
        "\n",
        "`total_cases`: Total de casos acumulados confirmados de COVID-19\n",
        "\n",
        "`new_cases`: Novos casos confirmados de COVID-19\n",
        "\n",
        "`new_cases_smoothed`: Média móvel de 7 dias em relação a novos casos confirmados de COVID-19\n",
        "\n",
        "`total_deaths`: Total de mortes acumuladas atribuídas a COVID-19\n",
        "\n",
        "`new_deaths`: Novas mortes atribuídas a COVID-19\n",
        "\n",
        "`new_deaths_smoothed`: Média móvel de 7 dias em relação a novas mortes atribuídas a COVID-19\n",
        "\n",
        "`total_cases_per_million`: Total de casos acumulados confirmados de COVID-19 por 1 milhão de pessoas\n",
        "\n",
        "`new_cases_per_million`: Novos casos confirmados de COVID-19 por 1 milhão de pessoas\n",
        "\n",
        "`new_cases_smoothed_per_million`: Média móvel de 7 dias em relação a novos casos confirmados de COVID-19 por 1 milhão de pessoas\n",
        "\n",
        "`total_deaths_per_million`: Total de mortes acumuladas atribuídas a COVID-19 por 1 milhão de pessoas\n",
        "\n",
        "`new_deaths_per_million`: Novas mortes atribuídas a COVID-19 por 1 milhão de pessoas\n",
        "\n",
        "`new_deaths_smoothed_per_million`:Média móvel de 7 dias em relação a novas mortes atribuídas a COVID-19 por 1 milhão de pessoas\n",
        "\n",
        " `reproduction_rate`: Estimativa em tempo real da taxa efetiva de reprodução (R) do COVID-19\n",
        "\n",
        " `icu_patients`: Número de pacientes COVID-19 em unidades de terapia intensiva (UTI)\n",
        "\n",
        "`icu_patients_per_million`: Número de pacientes COVID-19 em unidades de terapia intensiva (UTI) por 1 milhão de pessoas\n",
        "\n",
        "`hosp_patients`: Número de pacientes COVID-19 no hospital\n",
        "\n",
        "`hosp_patients_per_million`: Número de pacientes COVID-19 no hospital por 1 milhão de pessoas\n",
        "\n",
        "`weekly_icu_admissions`: Número de pacientes COVID-19 recém-admitidos em unidades de terapia intensiva (UTI)\n",
        "\n",
        "`weekly_icu_admissions_per_million`: Número de pacientes COVID-19 recém-admitidos em unidades de terapia intensiva (UTI) por 1 milhão de pessoas\n",
        "\n",
        "`weekly_hosp_admissions`: Número de pacientes COVID-19 recém-admitidos em hospitais\n",
        "\n",
        "`weekly_hosp_admissions_per_million`: Número de pacientes COVID-19 recém-admitidos em hospitais por 1 milhão de pessoas\n",
        "\n",
        "`total_tests`: Total de testes acumulados para COVID-19\n",
        "\n",
        "`new_tests`: Novos testes para COVID-19\n",
        "\n",
        "`total_tests_per_thousand`:Total de testes acumulados para COVID-19 por mil pessoas\n",
        "\n",
        "`new_tests_per_thousand`: Novos testes para COVID-19 por mil pessoas\n",
        "\n",
        "`new_tests_smoothed`: Média móvel de 7 dias de novos testes para COVID-19\n",
        "\n",
        "`new_tests_smoothed_per_thousand`: Média móvel de 7 dias de novos testes para COVID-19 por mil pessoas\n",
        "\n",
        "`positive_rate`: A parcela de testes COVID-19 que são positivos, dada como uma média contínua de 7 dias\n",
        "\n",
        "`tests_per_case`: Testes conduzidos por novo caso confirmado de COVID-19, dado como uma média contínua de 7 dias\n",
        "\n",
        "`tests_units`: Unidades usadas pelo local para relatar seus dados de teste\n",
        "\n",
        "`total_vaccinations`: Número total de doses de vacinação COVID-19 administradas\n",
        "\n",
        "`people_vaccinated`: Número total de pessoas que receberam pelo menos uma dose de vacina\n",
        "\n",
        "`people_fully_vaccinated`: Número total de pessoas que receberam todas as doses prescritas pelo protocolo de vacinação\n",
        "\n",
        "`new_vaccinations`: Novas doses de vacinação COVID-19 administradas\n",
        "\n",
        "`new_vaccinations_smoothed`: Média móvel de 7 dias novas doses de vacinação COVID-19 administradas\n",
        "\n",
        "`total_vaccinations_per_hundred`: Número total de doses de vacinação COVID-19 por 100 pessoas\n",
        "\n",
        "`people_vaccinated_per_hundred`: Número total de pessoas que receberam pelo menos uma dose de vacina por 100 pessoas\n",
        "\n",
        "`people_fully_vaccinated_per_hundred`: Número total de pessoas que receberam todas as doses prescritas pelo protocolo de vacinação por 100 pessoas\n",
        "\n",
        "`new_vaccinations_smoothed_per_million`: Média móvel de 7 dias em relação a Novas doses de vacinação COVID-19 administradas por 1 milhão de pessoas\n",
        "\n",
        "`stringency_index`: Índice de Restrição de Resposta do Governo: medida composta com base em 9 indicadores de resposta, incluindo fechamentos de escolas, fechamentos de locais de trabalho e proibições de viagens, redimensionado para um valor de 0 a 100 (100 = resposta mais restrita)\n",
        "\n",
        "`population`: População em 2020\n",
        "\n",
        "`population_density`: Número de pessoas dividido por área terrestre, medido em quilômetros quadrados, ano mais recente disponível\n",
        "\n",
        "`median_age`: Idade média da população, projeção da ONU para 2020\n",
        "\n",
        "`aged_65_older`: Parcela da população com 65 anos ou mais, ano mais recente disponível\n",
        "\n",
        "`aged_70_older`: Parcela da população com 70 anos ou mais em 2015\n",
        "\n",
        "`gdp_per_capita`: Produto interno bruto em paridade de poder de compra (dólares internacionais constantes de 2011), ano mais recente disponível\n",
        "\n",
        "`extreme_poverty`: Parcela da população que vive em pobreza extrema, ano mais recente disponível desde 2010\n",
        "\n",
        "`cardiovasc_death_rate`: Taxa de mortalidade por doenças cardiovasculares em 2017 (número anual de mortes por 100.000 pessoas)\n",
        "\n",
        "`diabetes_prevalence`: Prevalência de diabetes (% da população de 20 a 79 anos) em 2017\n",
        "\n",
        "`female_smokers`: Parcela de mulheres que fumam, ano mais recente disponível\n",
        "\n",
        "`male_smokers`: Parcela de homens que fumam, ano mais recente disponível\n",
        "\n",
        "`handwashing_facilities`: Parcela da população com instalações básicas para lavagem das mãos no local, ano mais recente disponível\n",
        "\n",
        "`hospital_beds_per_thousand`: Leitos hospitalares por 1.000 pessoas, ano mais recente disponível desde 2010\n",
        "\n",
        "`life_expectancy`: Expectativa de vida ao nascer em 2019\n",
        "\n",
        "`human_development_index`: Um índice composto que mede o desempenho médio em três dimensões básicas do desenvolvimento humano - uma vida longa e saudável, conhecimento e um padrão de vida decente\n",
        "\n",
        "\n",
        "Analisando o conjunto dos dados percebi uma separação nas variáveis, quanto aos tipos. São dividas em casos, mortes, vacinas, internações e condições sociais que poderiam influeciar na disseminação do do vírus, bem como outras variáveis que podem influênciar a forma que ele possa se comportar no organismo de um indivíduo que se contamine."
      ]
    },
    {
      "cell_type": "markdown",
      "metadata": {
        "id": "UCqf308JTG2n"
      },
      "source": [
        "#Importando bibliotecas e conjunto de dados\n",
        "Neste projeto irei utilizar o `pandas` para realizar a manipulação nos dados e o `pywaffle`, `seaborn` e o `matplotlib` para visualização dos dados"
      ]
    },
    {
      "cell_type": "code",
      "metadata": {
        "id": "kC_KeZftlD4D"
      },
      "source": [
        "!pip install pywaffle -q"
      ],
      "execution_count": 65,
      "outputs": []
    },
    {
      "cell_type": "code",
      "metadata": {
        "id": "lOtEJxe0DMEb"
      },
      "source": [
        "# importar as bibliotecas necessárias\n",
        "import seaborn as sns\n",
        "import pandas as pd\n",
        "import matplotlib.pyplot as plt\n",
        "import pywaffle"
      ],
      "execution_count": 67,
      "outputs": []
    },
    {
      "cell_type": "code",
      "metadata": {
        "id": "QFw6jEOgk7ID"
      },
      "source": [
        "# importar o dataset COVID-19 para um DataFrame\n",
        "df= pd.read_csv('https://raw.githubusercontent.com/owid/covid-19-data/master/public/data/owid-covid-data.csv')"
      ],
      "execution_count": 3,
      "outputs": []
    },
    {
      "cell_type": "markdown",
      "metadata": {
        "id": "jdMBVdoOpns_"
      },
      "source": [
        "#Análise inicial dos dados\n",
        "\n",
        "Nesta etapa buscarei reconhecer um pouco mais acerca do conjunto dos dados, para posteriormente realizar análises mais aprofundadas."
      ]
    },
    {
      "cell_type": "code",
      "metadata": {
        "colab": {
          "base_uri": "https://localhost:8080/"
        },
        "id": "f9PWGj0Pm6LH",
        "outputId": "1abb081d-b304-4f4f-a308-234c75e0fdb1"
      },
      "source": [
        "df.shape"
      ],
      "execution_count": 4,
      "outputs": [
        {
          "output_type": "execute_result",
          "data": {
            "text/plain": [
              "(78245, 59)"
            ]
          },
          "metadata": {
            "tags": []
          },
          "execution_count": 4
        }
      ]
    },
    {
      "cell_type": "markdown",
      "metadata": {
        "id": "YgISmPZfm8E1"
      },
      "source": [
        "Como é possível ver acima, o conjunto possui 59 variáveis e 78234 entradas."
      ]
    },
    {
      "cell_type": "code",
      "metadata": {
        "colab": {
          "base_uri": "https://localhost:8080/",
          "height": 299
        },
        "id": "oD7bcfyHk-XW",
        "outputId": "d15efe30-1fe8-4d6d-9eca-5f4f473a0897"
      },
      "source": [
        "df.head()"
      ],
      "execution_count": 5,
      "outputs": [
        {
          "output_type": "execute_result",
          "data": {
            "text/html": [
              "<div>\n",
              "<style scoped>\n",
              "    .dataframe tbody tr th:only-of-type {\n",
              "        vertical-align: middle;\n",
              "    }\n",
              "\n",
              "    .dataframe tbody tr th {\n",
              "        vertical-align: top;\n",
              "    }\n",
              "\n",
              "    .dataframe thead th {\n",
              "        text-align: right;\n",
              "    }\n",
              "</style>\n",
              "<table border=\"1\" class=\"dataframe\">\n",
              "  <thead>\n",
              "    <tr style=\"text-align: right;\">\n",
              "      <th></th>\n",
              "      <th>iso_code</th>\n",
              "      <th>continent</th>\n",
              "      <th>location</th>\n",
              "      <th>date</th>\n",
              "      <th>total_cases</th>\n",
              "      <th>new_cases</th>\n",
              "      <th>new_cases_smoothed</th>\n",
              "      <th>total_deaths</th>\n",
              "      <th>new_deaths</th>\n",
              "      <th>new_deaths_smoothed</th>\n",
              "      <th>total_cases_per_million</th>\n",
              "      <th>new_cases_per_million</th>\n",
              "      <th>new_cases_smoothed_per_million</th>\n",
              "      <th>total_deaths_per_million</th>\n",
              "      <th>new_deaths_per_million</th>\n",
              "      <th>new_deaths_smoothed_per_million</th>\n",
              "      <th>reproduction_rate</th>\n",
              "      <th>icu_patients</th>\n",
              "      <th>icu_patients_per_million</th>\n",
              "      <th>hosp_patients</th>\n",
              "      <th>hosp_patients_per_million</th>\n",
              "      <th>weekly_icu_admissions</th>\n",
              "      <th>weekly_icu_admissions_per_million</th>\n",
              "      <th>weekly_hosp_admissions</th>\n",
              "      <th>weekly_hosp_admissions_per_million</th>\n",
              "      <th>new_tests</th>\n",
              "      <th>total_tests</th>\n",
              "      <th>total_tests_per_thousand</th>\n",
              "      <th>new_tests_per_thousand</th>\n",
              "      <th>new_tests_smoothed</th>\n",
              "      <th>new_tests_smoothed_per_thousand</th>\n",
              "      <th>positive_rate</th>\n",
              "      <th>tests_per_case</th>\n",
              "      <th>tests_units</th>\n",
              "      <th>total_vaccinations</th>\n",
              "      <th>people_vaccinated</th>\n",
              "      <th>people_fully_vaccinated</th>\n",
              "      <th>new_vaccinations</th>\n",
              "      <th>new_vaccinations_smoothed</th>\n",
              "      <th>total_vaccinations_per_hundred</th>\n",
              "      <th>people_vaccinated_per_hundred</th>\n",
              "      <th>people_fully_vaccinated_per_hundred</th>\n",
              "      <th>new_vaccinations_smoothed_per_million</th>\n",
              "      <th>stringency_index</th>\n",
              "      <th>population</th>\n",
              "      <th>population_density</th>\n",
              "      <th>median_age</th>\n",
              "      <th>aged_65_older</th>\n",
              "      <th>aged_70_older</th>\n",
              "      <th>gdp_per_capita</th>\n",
              "      <th>extreme_poverty</th>\n",
              "      <th>cardiovasc_death_rate</th>\n",
              "      <th>diabetes_prevalence</th>\n",
              "      <th>female_smokers</th>\n",
              "      <th>male_smokers</th>\n",
              "      <th>handwashing_facilities</th>\n",
              "      <th>hospital_beds_per_thousand</th>\n",
              "      <th>life_expectancy</th>\n",
              "      <th>human_development_index</th>\n",
              "    </tr>\n",
              "  </thead>\n",
              "  <tbody>\n",
              "    <tr>\n",
              "      <th>0</th>\n",
              "      <td>AFG</td>\n",
              "      <td>Asia</td>\n",
              "      <td>Afghanistan</td>\n",
              "      <td>2020-02-24</td>\n",
              "      <td>1.0</td>\n",
              "      <td>1.0</td>\n",
              "      <td>NaN</td>\n",
              "      <td>NaN</td>\n",
              "      <td>NaN</td>\n",
              "      <td>NaN</td>\n",
              "      <td>0.026</td>\n",
              "      <td>0.026</td>\n",
              "      <td>NaN</td>\n",
              "      <td>NaN</td>\n",
              "      <td>NaN</td>\n",
              "      <td>NaN</td>\n",
              "      <td>NaN</td>\n",
              "      <td>NaN</td>\n",
              "      <td>NaN</td>\n",
              "      <td>NaN</td>\n",
              "      <td>NaN</td>\n",
              "      <td>NaN</td>\n",
              "      <td>NaN</td>\n",
              "      <td>NaN</td>\n",
              "      <td>NaN</td>\n",
              "      <td>NaN</td>\n",
              "      <td>NaN</td>\n",
              "      <td>NaN</td>\n",
              "      <td>NaN</td>\n",
              "      <td>NaN</td>\n",
              "      <td>NaN</td>\n",
              "      <td>NaN</td>\n",
              "      <td>NaN</td>\n",
              "      <td>NaN</td>\n",
              "      <td>NaN</td>\n",
              "      <td>NaN</td>\n",
              "      <td>NaN</td>\n",
              "      <td>NaN</td>\n",
              "      <td>NaN</td>\n",
              "      <td>NaN</td>\n",
              "      <td>NaN</td>\n",
              "      <td>NaN</td>\n",
              "      <td>NaN</td>\n",
              "      <td>8.33</td>\n",
              "      <td>38928341.0</td>\n",
              "      <td>54.422</td>\n",
              "      <td>18.6</td>\n",
              "      <td>2.581</td>\n",
              "      <td>1.337</td>\n",
              "      <td>1803.987</td>\n",
              "      <td>NaN</td>\n",
              "      <td>597.029</td>\n",
              "      <td>9.59</td>\n",
              "      <td>NaN</td>\n",
              "      <td>NaN</td>\n",
              "      <td>37.746</td>\n",
              "      <td>0.5</td>\n",
              "      <td>64.83</td>\n",
              "      <td>0.511</td>\n",
              "    </tr>\n",
              "    <tr>\n",
              "      <th>1</th>\n",
              "      <td>AFG</td>\n",
              "      <td>Asia</td>\n",
              "      <td>Afghanistan</td>\n",
              "      <td>2020-02-25</td>\n",
              "      <td>1.0</td>\n",
              "      <td>0.0</td>\n",
              "      <td>NaN</td>\n",
              "      <td>NaN</td>\n",
              "      <td>NaN</td>\n",
              "      <td>NaN</td>\n",
              "      <td>0.026</td>\n",
              "      <td>0.000</td>\n",
              "      <td>NaN</td>\n",
              "      <td>NaN</td>\n",
              "      <td>NaN</td>\n",
              "      <td>NaN</td>\n",
              "      <td>NaN</td>\n",
              "      <td>NaN</td>\n",
              "      <td>NaN</td>\n",
              "      <td>NaN</td>\n",
              "      <td>NaN</td>\n",
              "      <td>NaN</td>\n",
              "      <td>NaN</td>\n",
              "      <td>NaN</td>\n",
              "      <td>NaN</td>\n",
              "      <td>NaN</td>\n",
              "      <td>NaN</td>\n",
              "      <td>NaN</td>\n",
              "      <td>NaN</td>\n",
              "      <td>NaN</td>\n",
              "      <td>NaN</td>\n",
              "      <td>NaN</td>\n",
              "      <td>NaN</td>\n",
              "      <td>NaN</td>\n",
              "      <td>NaN</td>\n",
              "      <td>NaN</td>\n",
              "      <td>NaN</td>\n",
              "      <td>NaN</td>\n",
              "      <td>NaN</td>\n",
              "      <td>NaN</td>\n",
              "      <td>NaN</td>\n",
              "      <td>NaN</td>\n",
              "      <td>NaN</td>\n",
              "      <td>8.33</td>\n",
              "      <td>38928341.0</td>\n",
              "      <td>54.422</td>\n",
              "      <td>18.6</td>\n",
              "      <td>2.581</td>\n",
              "      <td>1.337</td>\n",
              "      <td>1803.987</td>\n",
              "      <td>NaN</td>\n",
              "      <td>597.029</td>\n",
              "      <td>9.59</td>\n",
              "      <td>NaN</td>\n",
              "      <td>NaN</td>\n",
              "      <td>37.746</td>\n",
              "      <td>0.5</td>\n",
              "      <td>64.83</td>\n",
              "      <td>0.511</td>\n",
              "    </tr>\n",
              "    <tr>\n",
              "      <th>2</th>\n",
              "      <td>AFG</td>\n",
              "      <td>Asia</td>\n",
              "      <td>Afghanistan</td>\n",
              "      <td>2020-02-26</td>\n",
              "      <td>1.0</td>\n",
              "      <td>0.0</td>\n",
              "      <td>NaN</td>\n",
              "      <td>NaN</td>\n",
              "      <td>NaN</td>\n",
              "      <td>NaN</td>\n",
              "      <td>0.026</td>\n",
              "      <td>0.000</td>\n",
              "      <td>NaN</td>\n",
              "      <td>NaN</td>\n",
              "      <td>NaN</td>\n",
              "      <td>NaN</td>\n",
              "      <td>NaN</td>\n",
              "      <td>NaN</td>\n",
              "      <td>NaN</td>\n",
              "      <td>NaN</td>\n",
              "      <td>NaN</td>\n",
              "      <td>NaN</td>\n",
              "      <td>NaN</td>\n",
              "      <td>NaN</td>\n",
              "      <td>NaN</td>\n",
              "      <td>NaN</td>\n",
              "      <td>NaN</td>\n",
              "      <td>NaN</td>\n",
              "      <td>NaN</td>\n",
              "      <td>NaN</td>\n",
              "      <td>NaN</td>\n",
              "      <td>NaN</td>\n",
              "      <td>NaN</td>\n",
              "      <td>NaN</td>\n",
              "      <td>NaN</td>\n",
              "      <td>NaN</td>\n",
              "      <td>NaN</td>\n",
              "      <td>NaN</td>\n",
              "      <td>NaN</td>\n",
              "      <td>NaN</td>\n",
              "      <td>NaN</td>\n",
              "      <td>NaN</td>\n",
              "      <td>NaN</td>\n",
              "      <td>8.33</td>\n",
              "      <td>38928341.0</td>\n",
              "      <td>54.422</td>\n",
              "      <td>18.6</td>\n",
              "      <td>2.581</td>\n",
              "      <td>1.337</td>\n",
              "      <td>1803.987</td>\n",
              "      <td>NaN</td>\n",
              "      <td>597.029</td>\n",
              "      <td>9.59</td>\n",
              "      <td>NaN</td>\n",
              "      <td>NaN</td>\n",
              "      <td>37.746</td>\n",
              "      <td>0.5</td>\n",
              "      <td>64.83</td>\n",
              "      <td>0.511</td>\n",
              "    </tr>\n",
              "    <tr>\n",
              "      <th>3</th>\n",
              "      <td>AFG</td>\n",
              "      <td>Asia</td>\n",
              "      <td>Afghanistan</td>\n",
              "      <td>2020-02-27</td>\n",
              "      <td>1.0</td>\n",
              "      <td>0.0</td>\n",
              "      <td>NaN</td>\n",
              "      <td>NaN</td>\n",
              "      <td>NaN</td>\n",
              "      <td>NaN</td>\n",
              "      <td>0.026</td>\n",
              "      <td>0.000</td>\n",
              "      <td>NaN</td>\n",
              "      <td>NaN</td>\n",
              "      <td>NaN</td>\n",
              "      <td>NaN</td>\n",
              "      <td>NaN</td>\n",
              "      <td>NaN</td>\n",
              "      <td>NaN</td>\n",
              "      <td>NaN</td>\n",
              "      <td>NaN</td>\n",
              "      <td>NaN</td>\n",
              "      <td>NaN</td>\n",
              "      <td>NaN</td>\n",
              "      <td>NaN</td>\n",
              "      <td>NaN</td>\n",
              "      <td>NaN</td>\n",
              "      <td>NaN</td>\n",
              "      <td>NaN</td>\n",
              "      <td>NaN</td>\n",
              "      <td>NaN</td>\n",
              "      <td>NaN</td>\n",
              "      <td>NaN</td>\n",
              "      <td>NaN</td>\n",
              "      <td>NaN</td>\n",
              "      <td>NaN</td>\n",
              "      <td>NaN</td>\n",
              "      <td>NaN</td>\n",
              "      <td>NaN</td>\n",
              "      <td>NaN</td>\n",
              "      <td>NaN</td>\n",
              "      <td>NaN</td>\n",
              "      <td>NaN</td>\n",
              "      <td>8.33</td>\n",
              "      <td>38928341.0</td>\n",
              "      <td>54.422</td>\n",
              "      <td>18.6</td>\n",
              "      <td>2.581</td>\n",
              "      <td>1.337</td>\n",
              "      <td>1803.987</td>\n",
              "      <td>NaN</td>\n",
              "      <td>597.029</td>\n",
              "      <td>9.59</td>\n",
              "      <td>NaN</td>\n",
              "      <td>NaN</td>\n",
              "      <td>37.746</td>\n",
              "      <td>0.5</td>\n",
              "      <td>64.83</td>\n",
              "      <td>0.511</td>\n",
              "    </tr>\n",
              "    <tr>\n",
              "      <th>4</th>\n",
              "      <td>AFG</td>\n",
              "      <td>Asia</td>\n",
              "      <td>Afghanistan</td>\n",
              "      <td>2020-02-28</td>\n",
              "      <td>1.0</td>\n",
              "      <td>0.0</td>\n",
              "      <td>NaN</td>\n",
              "      <td>NaN</td>\n",
              "      <td>NaN</td>\n",
              "      <td>NaN</td>\n",
              "      <td>0.026</td>\n",
              "      <td>0.000</td>\n",
              "      <td>NaN</td>\n",
              "      <td>NaN</td>\n",
              "      <td>NaN</td>\n",
              "      <td>NaN</td>\n",
              "      <td>NaN</td>\n",
              "      <td>NaN</td>\n",
              "      <td>NaN</td>\n",
              "      <td>NaN</td>\n",
              "      <td>NaN</td>\n",
              "      <td>NaN</td>\n",
              "      <td>NaN</td>\n",
              "      <td>NaN</td>\n",
              "      <td>NaN</td>\n",
              "      <td>NaN</td>\n",
              "      <td>NaN</td>\n",
              "      <td>NaN</td>\n",
              "      <td>NaN</td>\n",
              "      <td>NaN</td>\n",
              "      <td>NaN</td>\n",
              "      <td>NaN</td>\n",
              "      <td>NaN</td>\n",
              "      <td>NaN</td>\n",
              "      <td>NaN</td>\n",
              "      <td>NaN</td>\n",
              "      <td>NaN</td>\n",
              "      <td>NaN</td>\n",
              "      <td>NaN</td>\n",
              "      <td>NaN</td>\n",
              "      <td>NaN</td>\n",
              "      <td>NaN</td>\n",
              "      <td>NaN</td>\n",
              "      <td>8.33</td>\n",
              "      <td>38928341.0</td>\n",
              "      <td>54.422</td>\n",
              "      <td>18.6</td>\n",
              "      <td>2.581</td>\n",
              "      <td>1.337</td>\n",
              "      <td>1803.987</td>\n",
              "      <td>NaN</td>\n",
              "      <td>597.029</td>\n",
              "      <td>9.59</td>\n",
              "      <td>NaN</td>\n",
              "      <td>NaN</td>\n",
              "      <td>37.746</td>\n",
              "      <td>0.5</td>\n",
              "      <td>64.83</td>\n",
              "      <td>0.511</td>\n",
              "    </tr>\n",
              "  </tbody>\n",
              "</table>\n",
              "</div>"
            ],
            "text/plain": [
              "  iso_code continent  ... life_expectancy human_development_index\n",
              "0      AFG      Asia  ...           64.83                   0.511\n",
              "1      AFG      Asia  ...           64.83                   0.511\n",
              "2      AFG      Asia  ...           64.83                   0.511\n",
              "3      AFG      Asia  ...           64.83                   0.511\n",
              "4      AFG      Asia  ...           64.83                   0.511\n",
              "\n",
              "[5 rows x 59 columns]"
            ]
          },
          "metadata": {
            "tags": []
          },
          "execution_count": 5
        }
      ]
    },
    {
      "cell_type": "code",
      "metadata": {
        "colab": {
          "base_uri": "https://localhost:8080/",
          "height": 299
        },
        "id": "DK6TRQ_RlGlN",
        "outputId": "157eef7d-cace-44c9-97b2-3b3442eb9c0f"
      },
      "source": [
        "df.tail()"
      ],
      "execution_count": 6,
      "outputs": [
        {
          "output_type": "execute_result",
          "data": {
            "text/html": [
              "<div>\n",
              "<style scoped>\n",
              "    .dataframe tbody tr th:only-of-type {\n",
              "        vertical-align: middle;\n",
              "    }\n",
              "\n",
              "    .dataframe tbody tr th {\n",
              "        vertical-align: top;\n",
              "    }\n",
              "\n",
              "    .dataframe thead th {\n",
              "        text-align: right;\n",
              "    }\n",
              "</style>\n",
              "<table border=\"1\" class=\"dataframe\">\n",
              "  <thead>\n",
              "    <tr style=\"text-align: right;\">\n",
              "      <th></th>\n",
              "      <th>iso_code</th>\n",
              "      <th>continent</th>\n",
              "      <th>location</th>\n",
              "      <th>date</th>\n",
              "      <th>total_cases</th>\n",
              "      <th>new_cases</th>\n",
              "      <th>new_cases_smoothed</th>\n",
              "      <th>total_deaths</th>\n",
              "      <th>new_deaths</th>\n",
              "      <th>new_deaths_smoothed</th>\n",
              "      <th>total_cases_per_million</th>\n",
              "      <th>new_cases_per_million</th>\n",
              "      <th>new_cases_smoothed_per_million</th>\n",
              "      <th>total_deaths_per_million</th>\n",
              "      <th>new_deaths_per_million</th>\n",
              "      <th>new_deaths_smoothed_per_million</th>\n",
              "      <th>reproduction_rate</th>\n",
              "      <th>icu_patients</th>\n",
              "      <th>icu_patients_per_million</th>\n",
              "      <th>hosp_patients</th>\n",
              "      <th>hosp_patients_per_million</th>\n",
              "      <th>weekly_icu_admissions</th>\n",
              "      <th>weekly_icu_admissions_per_million</th>\n",
              "      <th>weekly_hosp_admissions</th>\n",
              "      <th>weekly_hosp_admissions_per_million</th>\n",
              "      <th>new_tests</th>\n",
              "      <th>total_tests</th>\n",
              "      <th>total_tests_per_thousand</th>\n",
              "      <th>new_tests_per_thousand</th>\n",
              "      <th>new_tests_smoothed</th>\n",
              "      <th>new_tests_smoothed_per_thousand</th>\n",
              "      <th>positive_rate</th>\n",
              "      <th>tests_per_case</th>\n",
              "      <th>tests_units</th>\n",
              "      <th>total_vaccinations</th>\n",
              "      <th>people_vaccinated</th>\n",
              "      <th>people_fully_vaccinated</th>\n",
              "      <th>new_vaccinations</th>\n",
              "      <th>new_vaccinations_smoothed</th>\n",
              "      <th>total_vaccinations_per_hundred</th>\n",
              "      <th>people_vaccinated_per_hundred</th>\n",
              "      <th>people_fully_vaccinated_per_hundred</th>\n",
              "      <th>new_vaccinations_smoothed_per_million</th>\n",
              "      <th>stringency_index</th>\n",
              "      <th>population</th>\n",
              "      <th>population_density</th>\n",
              "      <th>median_age</th>\n",
              "      <th>aged_65_older</th>\n",
              "      <th>aged_70_older</th>\n",
              "      <th>gdp_per_capita</th>\n",
              "      <th>extreme_poverty</th>\n",
              "      <th>cardiovasc_death_rate</th>\n",
              "      <th>diabetes_prevalence</th>\n",
              "      <th>female_smokers</th>\n",
              "      <th>male_smokers</th>\n",
              "      <th>handwashing_facilities</th>\n",
              "      <th>hospital_beds_per_thousand</th>\n",
              "      <th>life_expectancy</th>\n",
              "      <th>human_development_index</th>\n",
              "    </tr>\n",
              "  </thead>\n",
              "  <tbody>\n",
              "    <tr>\n",
              "      <th>78240</th>\n",
              "      <td>ZWE</td>\n",
              "      <td>Africa</td>\n",
              "      <td>Zimbabwe</td>\n",
              "      <td>2021-03-25</td>\n",
              "      <td>36778.0</td>\n",
              "      <td>29.0</td>\n",
              "      <td>23.857</td>\n",
              "      <td>1518.0</td>\n",
              "      <td>2.0</td>\n",
              "      <td>1.286</td>\n",
              "      <td>2474.479</td>\n",
              "      <td>1.951</td>\n",
              "      <td>1.605</td>\n",
              "      <td>102.133</td>\n",
              "      <td>0.135</td>\n",
              "      <td>0.087</td>\n",
              "      <td>0.82</td>\n",
              "      <td>NaN</td>\n",
              "      <td>NaN</td>\n",
              "      <td>NaN</td>\n",
              "      <td>NaN</td>\n",
              "      <td>NaN</td>\n",
              "      <td>NaN</td>\n",
              "      <td>NaN</td>\n",
              "      <td>NaN</td>\n",
              "      <td>1914.0</td>\n",
              "      <td>425549.0</td>\n",
              "      <td>28.632</td>\n",
              "      <td>0.129</td>\n",
              "      <td>1887.0</td>\n",
              "      <td>0.127</td>\n",
              "      <td>0.013</td>\n",
              "      <td>79.1</td>\n",
              "      <td>tests performed</td>\n",
              "      <td>54892.0</td>\n",
              "      <td>54892.0</td>\n",
              "      <td>NaN</td>\n",
              "      <td>5488.0</td>\n",
              "      <td>2127.0</td>\n",
              "      <td>0.37</td>\n",
              "      <td>0.37</td>\n",
              "      <td>NaN</td>\n",
              "      <td>143.0</td>\n",
              "      <td>NaN</td>\n",
              "      <td>14862927.0</td>\n",
              "      <td>42.729</td>\n",
              "      <td>19.6</td>\n",
              "      <td>2.822</td>\n",
              "      <td>1.882</td>\n",
              "      <td>1899.775</td>\n",
              "      <td>21.4</td>\n",
              "      <td>307.846</td>\n",
              "      <td>1.82</td>\n",
              "      <td>1.6</td>\n",
              "      <td>30.7</td>\n",
              "      <td>36.791</td>\n",
              "      <td>1.7</td>\n",
              "      <td>61.49</td>\n",
              "      <td>0.571</td>\n",
              "    </tr>\n",
              "    <tr>\n",
              "      <th>78241</th>\n",
              "      <td>ZWE</td>\n",
              "      <td>Africa</td>\n",
              "      <td>Zimbabwe</td>\n",
              "      <td>2021-03-26</td>\n",
              "      <td>36805.0</td>\n",
              "      <td>27.0</td>\n",
              "      <td>21.857</td>\n",
              "      <td>1518.0</td>\n",
              "      <td>0.0</td>\n",
              "      <td>1.143</td>\n",
              "      <td>2476.296</td>\n",
              "      <td>1.817</td>\n",
              "      <td>1.471</td>\n",
              "      <td>102.133</td>\n",
              "      <td>0.000</td>\n",
              "      <td>0.077</td>\n",
              "      <td>0.82</td>\n",
              "      <td>NaN</td>\n",
              "      <td>NaN</td>\n",
              "      <td>NaN</td>\n",
              "      <td>NaN</td>\n",
              "      <td>NaN</td>\n",
              "      <td>NaN</td>\n",
              "      <td>NaN</td>\n",
              "      <td>NaN</td>\n",
              "      <td>3074.0</td>\n",
              "      <td>428623.0</td>\n",
              "      <td>28.838</td>\n",
              "      <td>0.207</td>\n",
              "      <td>1999.0</td>\n",
              "      <td>0.134</td>\n",
              "      <td>0.011</td>\n",
              "      <td>91.5</td>\n",
              "      <td>tests performed</td>\n",
              "      <td>61093.0</td>\n",
              "      <td>61093.0</td>\n",
              "      <td>NaN</td>\n",
              "      <td>6201.0</td>\n",
              "      <td>2772.0</td>\n",
              "      <td>0.41</td>\n",
              "      <td>0.41</td>\n",
              "      <td>NaN</td>\n",
              "      <td>187.0</td>\n",
              "      <td>NaN</td>\n",
              "      <td>14862927.0</td>\n",
              "      <td>42.729</td>\n",
              "      <td>19.6</td>\n",
              "      <td>2.822</td>\n",
              "      <td>1.882</td>\n",
              "      <td>1899.775</td>\n",
              "      <td>21.4</td>\n",
              "      <td>307.846</td>\n",
              "      <td>1.82</td>\n",
              "      <td>1.6</td>\n",
              "      <td>30.7</td>\n",
              "      <td>36.791</td>\n",
              "      <td>1.7</td>\n",
              "      <td>61.49</td>\n",
              "      <td>0.571</td>\n",
              "    </tr>\n",
              "    <tr>\n",
              "      <th>78242</th>\n",
              "      <td>ZWE</td>\n",
              "      <td>Africa</td>\n",
              "      <td>Zimbabwe</td>\n",
              "      <td>2021-03-27</td>\n",
              "      <td>36818.0</td>\n",
              "      <td>13.0</td>\n",
              "      <td>22.286</td>\n",
              "      <td>1519.0</td>\n",
              "      <td>1.0</td>\n",
              "      <td>1.286</td>\n",
              "      <td>2477.170</td>\n",
              "      <td>0.875</td>\n",
              "      <td>1.499</td>\n",
              "      <td>102.201</td>\n",
              "      <td>0.067</td>\n",
              "      <td>0.087</td>\n",
              "      <td>0.82</td>\n",
              "      <td>NaN</td>\n",
              "      <td>NaN</td>\n",
              "      <td>NaN</td>\n",
              "      <td>NaN</td>\n",
              "      <td>NaN</td>\n",
              "      <td>NaN</td>\n",
              "      <td>NaN</td>\n",
              "      <td>NaN</td>\n",
              "      <td>1990.0</td>\n",
              "      <td>430613.0</td>\n",
              "      <td>28.972</td>\n",
              "      <td>0.134</td>\n",
              "      <td>2177.0</td>\n",
              "      <td>0.146</td>\n",
              "      <td>0.010</td>\n",
              "      <td>97.7</td>\n",
              "      <td>tests performed</td>\n",
              "      <td>65466.0</td>\n",
              "      <td>65466.0</td>\n",
              "      <td>NaN</td>\n",
              "      <td>4373.0</td>\n",
              "      <td>3322.0</td>\n",
              "      <td>0.44</td>\n",
              "      <td>0.44</td>\n",
              "      <td>NaN</td>\n",
              "      <td>224.0</td>\n",
              "      <td>NaN</td>\n",
              "      <td>14862927.0</td>\n",
              "      <td>42.729</td>\n",
              "      <td>19.6</td>\n",
              "      <td>2.822</td>\n",
              "      <td>1.882</td>\n",
              "      <td>1899.775</td>\n",
              "      <td>21.4</td>\n",
              "      <td>307.846</td>\n",
              "      <td>1.82</td>\n",
              "      <td>1.6</td>\n",
              "      <td>30.7</td>\n",
              "      <td>36.791</td>\n",
              "      <td>1.7</td>\n",
              "      <td>61.49</td>\n",
              "      <td>0.571</td>\n",
              "    </tr>\n",
              "    <tr>\n",
              "      <th>78243</th>\n",
              "      <td>ZWE</td>\n",
              "      <td>Africa</td>\n",
              "      <td>Zimbabwe</td>\n",
              "      <td>2021-03-28</td>\n",
              "      <td>36822.0</td>\n",
              "      <td>4.0</td>\n",
              "      <td>22.429</td>\n",
              "      <td>1520.0</td>\n",
              "      <td>1.0</td>\n",
              "      <td>1.143</td>\n",
              "      <td>2477.439</td>\n",
              "      <td>0.269</td>\n",
              "      <td>1.509</td>\n",
              "      <td>102.268</td>\n",
              "      <td>0.067</td>\n",
              "      <td>0.077</td>\n",
              "      <td>NaN</td>\n",
              "      <td>NaN</td>\n",
              "      <td>NaN</td>\n",
              "      <td>NaN</td>\n",
              "      <td>NaN</td>\n",
              "      <td>NaN</td>\n",
              "      <td>NaN</td>\n",
              "      <td>NaN</td>\n",
              "      <td>NaN</td>\n",
              "      <td>NaN</td>\n",
              "      <td>NaN</td>\n",
              "      <td>NaN</td>\n",
              "      <td>NaN</td>\n",
              "      <td>NaN</td>\n",
              "      <td>NaN</td>\n",
              "      <td>NaN</td>\n",
              "      <td>NaN</td>\n",
              "      <td>NaN</td>\n",
              "      <td>68511.0</td>\n",
              "      <td>68511.0</td>\n",
              "      <td>NaN</td>\n",
              "      <td>3045.0</td>\n",
              "      <td>3683.0</td>\n",
              "      <td>0.46</td>\n",
              "      <td>0.46</td>\n",
              "      <td>NaN</td>\n",
              "      <td>248.0</td>\n",
              "      <td>NaN</td>\n",
              "      <td>14862927.0</td>\n",
              "      <td>42.729</td>\n",
              "      <td>19.6</td>\n",
              "      <td>2.822</td>\n",
              "      <td>1.882</td>\n",
              "      <td>1899.775</td>\n",
              "      <td>21.4</td>\n",
              "      <td>307.846</td>\n",
              "      <td>1.82</td>\n",
              "      <td>1.6</td>\n",
              "      <td>30.7</td>\n",
              "      <td>36.791</td>\n",
              "      <td>1.7</td>\n",
              "      <td>61.49</td>\n",
              "      <td>0.571</td>\n",
              "    </tr>\n",
              "    <tr>\n",
              "      <th>78244</th>\n",
              "      <td>ZWE</td>\n",
              "      <td>Africa</td>\n",
              "      <td>Zimbabwe</td>\n",
              "      <td>2021-03-29</td>\n",
              "      <td>36839.0</td>\n",
              "      <td>17.0</td>\n",
              "      <td>22.143</td>\n",
              "      <td>1520.0</td>\n",
              "      <td>0.0</td>\n",
              "      <td>0.857</td>\n",
              "      <td>2478.583</td>\n",
              "      <td>1.144</td>\n",
              "      <td>1.490</td>\n",
              "      <td>102.268</td>\n",
              "      <td>0.000</td>\n",
              "      <td>0.058</td>\n",
              "      <td>NaN</td>\n",
              "      <td>NaN</td>\n",
              "      <td>NaN</td>\n",
              "      <td>NaN</td>\n",
              "      <td>NaN</td>\n",
              "      <td>NaN</td>\n",
              "      <td>NaN</td>\n",
              "      <td>NaN</td>\n",
              "      <td>NaN</td>\n",
              "      <td>NaN</td>\n",
              "      <td>NaN</td>\n",
              "      <td>NaN</td>\n",
              "      <td>NaN</td>\n",
              "      <td>NaN</td>\n",
              "      <td>NaN</td>\n",
              "      <td>NaN</td>\n",
              "      <td>NaN</td>\n",
              "      <td>NaN</td>\n",
              "      <td>69751.0</td>\n",
              "      <td>69751.0</td>\n",
              "      <td>NaN</td>\n",
              "      <td>1240.0</td>\n",
              "      <td>3780.0</td>\n",
              "      <td>0.47</td>\n",
              "      <td>0.47</td>\n",
              "      <td>NaN</td>\n",
              "      <td>254.0</td>\n",
              "      <td>NaN</td>\n",
              "      <td>14862927.0</td>\n",
              "      <td>42.729</td>\n",
              "      <td>19.6</td>\n",
              "      <td>2.822</td>\n",
              "      <td>1.882</td>\n",
              "      <td>1899.775</td>\n",
              "      <td>21.4</td>\n",
              "      <td>307.846</td>\n",
              "      <td>1.82</td>\n",
              "      <td>1.6</td>\n",
              "      <td>30.7</td>\n",
              "      <td>36.791</td>\n",
              "      <td>1.7</td>\n",
              "      <td>61.49</td>\n",
              "      <td>0.571</td>\n",
              "    </tr>\n",
              "  </tbody>\n",
              "</table>\n",
              "</div>"
            ],
            "text/plain": [
              "      iso_code continent  ... life_expectancy human_development_index\n",
              "78240      ZWE    Africa  ...           61.49                   0.571\n",
              "78241      ZWE    Africa  ...           61.49                   0.571\n",
              "78242      ZWE    Africa  ...           61.49                   0.571\n",
              "78243      ZWE    Africa  ...           61.49                   0.571\n",
              "78244      ZWE    Africa  ...           61.49                   0.571\n",
              "\n",
              "[5 rows x 59 columns]"
            ]
          },
          "metadata": {
            "tags": []
          },
          "execution_count": 6
        }
      ]
    },
    {
      "cell_type": "markdown",
      "metadata": {
        "id": "hvMirVr4lKul"
      },
      "source": [
        "Visualizando as 5 primeiras e últimas linhas já é possível identificar a presença de alguns valores ausentes. "
      ]
    },
    {
      "cell_type": "code",
      "metadata": {
        "colab": {
          "base_uri": "https://localhost:8080/"
        },
        "id": "qSC_sgWald7d",
        "outputId": "9f7868a4-2969-449d-c0ff-e0a4cd8db0e0"
      },
      "source": [
        "(df.isnull().sum()/df.shape[0]).sort_values(ascending=False)"
      ],
      "execution_count": 7,
      "outputs": [
        {
          "output_type": "execute_result",
          "data": {
            "text/plain": [
              "weekly_icu_admissions                    0.990888\n",
              "weekly_icu_admissions_per_million        0.990888\n",
              "weekly_hosp_admissions                   0.983219\n",
              "weekly_hosp_admissions_per_million       0.983219\n",
              "people_fully_vaccinated                  0.954949\n",
              "people_fully_vaccinated_per_hundred      0.954949\n",
              "new_vaccinations                         0.937006\n",
              "people_vaccinated                        0.933235\n",
              "people_vaccinated_per_hundred            0.933235\n",
              "total_vaccinations                       0.926040\n",
              "total_vaccinations_per_hundred           0.926040\n",
              "icu_patients_per_million                 0.895981\n",
              "icu_patients                             0.895981\n",
              "new_vaccinations_smoothed_per_million    0.885271\n",
              "new_vaccinations_smoothed                0.885271\n",
              "hosp_patients                            0.875391\n",
              "hosp_patients_per_million                0.875391\n",
              "total_tests                              0.543958\n",
              "total_tests_per_thousand                 0.543958\n",
              "new_tests                                0.541006\n",
              "new_tests_per_thousand                   0.541006\n",
              "handwashing_facilities                   0.540328\n",
              "tests_per_case                           0.499086\n",
              "positive_rate                            0.492006\n",
              "new_tests_smoothed_per_thousand          0.474931\n",
              "new_tests_smoothed                       0.474931\n",
              "tests_units                              0.457524\n",
              "extreme_poverty                          0.380702\n",
              "male_smokers                             0.291495\n",
              "female_smokers                           0.280938\n",
              "reproduction_rate                        0.195655\n",
              "hospital_beds_per_thousand               0.162707\n",
              "stringency_index                         0.146271\n",
              "total_deaths_per_million                 0.144725\n",
              "new_deaths_per_million                   0.142706\n",
              "total_deaths                             0.139562\n",
              "new_deaths                               0.137542\n",
              "aged_65_older                            0.105873\n",
              "aged_70_older                            0.100582\n",
              "median_age                               0.095495\n",
              "gdp_per_capita                           0.092095\n",
              "human_development_index                  0.085117\n",
              "cardiovasc_death_rate                    0.084427\n",
              "diabetes_prevalence                      0.072362\n",
              "population_density                       0.067953\n",
              "life_expectancy                          0.050700\n",
              "continent                                0.048859\n",
              "new_cases_smoothed_per_million           0.037779\n",
              "new_deaths_smoothed_per_million          0.037779\n",
              "new_deaths_smoothed                      0.032513\n",
              "new_cases_smoothed                       0.032513\n",
              "new_cases_per_million                    0.025050\n",
              "total_cases_per_million                  0.025024\n",
              "new_cases                                0.019720\n",
              "total_cases                              0.019695\n",
              "population                               0.006237\n",
              "date                                     0.000000\n",
              "location                                 0.000000\n",
              "iso_code                                 0.000000\n",
              "dtype: float64"
            ]
          },
          "metadata": {
            "tags": []
          },
          "execution_count": 7
        }
      ]
    },
    {
      "cell_type": "markdown",
      "metadata": {
        "id": "sM6sYTKWmJyX"
      },
      "source": [
        "Com uma análise mais aprofundada foi possível verificar algumas variáveis alcançando a marca de 99% de valores ausentes. No entanto, ao analisar o repositório do conjunto de dados, é informado que algumas varíaveis só foram preenchidas após certas datas. A vacinas por exemplo, começaram a ser distruibuidas há pouco tempo. \n",
        "Afim de buscar aproveitar todos o dados, separarei os de interesse em novos dataframes quando necessário."
      ]
    },
    {
      "cell_type": "code",
      "metadata": {
        "colab": {
          "base_uri": "https://localhost:8080/"
        },
        "id": "cmnRDwfop1Ws",
        "outputId": "910966b6-3edc-40d6-f60f-a201a25248a6"
      },
      "source": [
        "df.dtypes"
      ],
      "execution_count": 8,
      "outputs": [
        {
          "output_type": "execute_result",
          "data": {
            "text/plain": [
              "iso_code                                  object\n",
              "continent                                 object\n",
              "location                                  object\n",
              "date                                      object\n",
              "total_cases                              float64\n",
              "new_cases                                float64\n",
              "new_cases_smoothed                       float64\n",
              "total_deaths                             float64\n",
              "new_deaths                               float64\n",
              "new_deaths_smoothed                      float64\n",
              "total_cases_per_million                  float64\n",
              "new_cases_per_million                    float64\n",
              "new_cases_smoothed_per_million           float64\n",
              "total_deaths_per_million                 float64\n",
              "new_deaths_per_million                   float64\n",
              "new_deaths_smoothed_per_million          float64\n",
              "reproduction_rate                        float64\n",
              "icu_patients                             float64\n",
              "icu_patients_per_million                 float64\n",
              "hosp_patients                            float64\n",
              "hosp_patients_per_million                float64\n",
              "weekly_icu_admissions                    float64\n",
              "weekly_icu_admissions_per_million        float64\n",
              "weekly_hosp_admissions                   float64\n",
              "weekly_hosp_admissions_per_million       float64\n",
              "new_tests                                float64\n",
              "total_tests                              float64\n",
              "total_tests_per_thousand                 float64\n",
              "new_tests_per_thousand                   float64\n",
              "new_tests_smoothed                       float64\n",
              "new_tests_smoothed_per_thousand          float64\n",
              "positive_rate                            float64\n",
              "tests_per_case                           float64\n",
              "tests_units                               object\n",
              "total_vaccinations                       float64\n",
              "people_vaccinated                        float64\n",
              "people_fully_vaccinated                  float64\n",
              "new_vaccinations                         float64\n",
              "new_vaccinations_smoothed                float64\n",
              "total_vaccinations_per_hundred           float64\n",
              "people_vaccinated_per_hundred            float64\n",
              "people_fully_vaccinated_per_hundred      float64\n",
              "new_vaccinations_smoothed_per_million    float64\n",
              "stringency_index                         float64\n",
              "population                               float64\n",
              "population_density                       float64\n",
              "median_age                               float64\n",
              "aged_65_older                            float64\n",
              "aged_70_older                            float64\n",
              "gdp_per_capita                           float64\n",
              "extreme_poverty                          float64\n",
              "cardiovasc_death_rate                    float64\n",
              "diabetes_prevalence                      float64\n",
              "female_smokers                           float64\n",
              "male_smokers                             float64\n",
              "handwashing_facilities                   float64\n",
              "hospital_beds_per_thousand               float64\n",
              "life_expectancy                          float64\n",
              "human_development_index                  float64\n",
              "dtype: object"
            ]
          },
          "metadata": {
            "tags": []
          },
          "execution_count": 8
        }
      ]
    },
    {
      "cell_type": "markdown",
      "metadata": {
        "id": "UkOswUInqKK9"
      },
      "source": [
        "Acima, percebe-se que os dados estão divididos em dois tipos:\n",
        "\n",
        "* `object`- Strings (Texto)\n",
        "* `float64`- Valores numéricos com ponto flutuante\n",
        "\n",
        "Vamos converter a variável `date` que se encontra no formato de `object` para o formato `datetime`, pois é preferível para operações futuras."
      ]
    },
    {
      "cell_type": "code",
      "metadata": {
        "id": "SQgbCx-kqJs0"
      },
      "source": [
        "df.date= pd.to_datetime(df.date)"
      ],
      "execution_count": 9,
      "outputs": []
    },
    {
      "cell_type": "code",
      "metadata": {
        "colab": {
          "base_uri": "https://localhost:8080/"
        },
        "id": "7Gzp4Ihsq0YJ",
        "outputId": "b1983fda-ef6a-483d-b0ba-808dc6db2f8e"
      },
      "source": [
        "df.dtypes"
      ],
      "execution_count": 10,
      "outputs": [
        {
          "output_type": "execute_result",
          "data": {
            "text/plain": [
              "iso_code                                         object\n",
              "continent                                        object\n",
              "location                                         object\n",
              "date                                     datetime64[ns]\n",
              "total_cases                                     float64\n",
              "new_cases                                       float64\n",
              "new_cases_smoothed                              float64\n",
              "total_deaths                                    float64\n",
              "new_deaths                                      float64\n",
              "new_deaths_smoothed                             float64\n",
              "total_cases_per_million                         float64\n",
              "new_cases_per_million                           float64\n",
              "new_cases_smoothed_per_million                  float64\n",
              "total_deaths_per_million                        float64\n",
              "new_deaths_per_million                          float64\n",
              "new_deaths_smoothed_per_million                 float64\n",
              "reproduction_rate                               float64\n",
              "icu_patients                                    float64\n",
              "icu_patients_per_million                        float64\n",
              "hosp_patients                                   float64\n",
              "hosp_patients_per_million                       float64\n",
              "weekly_icu_admissions                           float64\n",
              "weekly_icu_admissions_per_million               float64\n",
              "weekly_hosp_admissions                          float64\n",
              "weekly_hosp_admissions_per_million              float64\n",
              "new_tests                                       float64\n",
              "total_tests                                     float64\n",
              "total_tests_per_thousand                        float64\n",
              "new_tests_per_thousand                          float64\n",
              "new_tests_smoothed                              float64\n",
              "new_tests_smoothed_per_thousand                 float64\n",
              "positive_rate                                   float64\n",
              "tests_per_case                                  float64\n",
              "tests_units                                      object\n",
              "total_vaccinations                              float64\n",
              "people_vaccinated                               float64\n",
              "people_fully_vaccinated                         float64\n",
              "new_vaccinations                                float64\n",
              "new_vaccinations_smoothed                       float64\n",
              "total_vaccinations_per_hundred                  float64\n",
              "people_vaccinated_per_hundred                   float64\n",
              "people_fully_vaccinated_per_hundred             float64\n",
              "new_vaccinations_smoothed_per_million           float64\n",
              "stringency_index                                float64\n",
              "population                                      float64\n",
              "population_density                              float64\n",
              "median_age                                      float64\n",
              "aged_65_older                                   float64\n",
              "aged_70_older                                   float64\n",
              "gdp_per_capita                                  float64\n",
              "extreme_poverty                                 float64\n",
              "cardiovasc_death_rate                           float64\n",
              "diabetes_prevalence                             float64\n",
              "female_smokers                                  float64\n",
              "male_smokers                                    float64\n",
              "handwashing_facilities                          float64\n",
              "hospital_beds_per_thousand                      float64\n",
              "life_expectancy                                 float64\n",
              "human_development_index                         float64\n",
              "dtype: object"
            ]
          },
          "metadata": {
            "tags": []
          },
          "execution_count": 10
        }
      ]
    },
    {
      "cell_type": "markdown",
      "metadata": {
        "id": "qb5By2nIMS6m"
      },
      "source": [
        "## Análise Exploratória dos Dados\n",
        "\n",
        "Nesta etapa buscarei com a análise gráfica retirar alguns insighs acerca dos dados. \n",
        "\n",
        "### Análise Exploratória Inicial\n",
        "\n",
        "* *Visualizar as 5 primeiras entradas*\n",
        "    * `df.head()`\n",
        "* *Qual o tamanho do seu DataFrame*\n",
        "    * `df.shape`\n",
        "* *Extrair e imprimir os nomes das colunas*\n",
        "    * `df.columns`\n",
        "* *Quais os tipos das variáveis*\n",
        "    * `df.dtypes`\n",
        "* *Identifique a porcentagem de valores ausentes das colunas*\n",
        "    * `df.isnull().sum() / df.shape[0]` ou\n",
        "    * `(df.isnull().sum() / df.shape[0]).sort_values(ascending=False)` *para ordem decrescente.*\n",
        "* *Transforme a coluna `date` no formato `datetime`*\n",
        "    * `df.date = pd.to_datetime(df.date)`\n",
        "* *Ver para a data mais atual, quais os países que têm mais casos e mortes. Veja o exemplo:*\n",
        "    * `df.loc[df.date == '2020-06-14'].sort_values(by=\"total_cases\", ascending=False)`\n",
        "    * `df.loc[df.date == '2020-06-14'].sort_values(by=\"total_deaths\", ascending=False)`\n",
        "* Plotar um gráfico de barras para os 5 países com mais mortes\n",
        "    * `df.loc[df.date == '2020-06-14', ['location', 'total_deaths']].sort_values(by=\"total_deaths\", ascending=False)[1:6]`\n",
        "    * `ax.bar('location', 'total_deaths', data=top5_total_deaths)`\n",
        "* Plotar um gráfico de linhas para ver a evolução do total de casos de COVID-19 no mundo.\n",
        "    * `df.loc[df.location == \"World\", \"total_deaths\"].reset_index(drop=True).plot()`\n",
        "* [OPCIONAL] Plotar um gráfico de dispersão considerando `gdp_per_capita` (ou seja, o PIB dos países) pelo número total de mortos. Pegue a data mais recente apenas.\n",
        "    * Lembre-se que não é nada conclusivo, pois envolve fatores como proporcão de testes, etc.\n"
      ]
    },
    {
      "cell_type": "markdown",
      "metadata": {
        "id": "__TfiNtiPPA6"
      },
      "source": [
        "#Q1. Como foi o comportamento dos números de casos e mortes ao longo do tempo?"
      ]
    },
    {
      "cell_type": "code",
      "metadata": {
        "id": "gO1fv3D1PS4k"
      },
      "source": [
        "df_1= df[['date','total_cases', 'total_deaths']].copy()"
      ],
      "execution_count": 11,
      "outputs": []
    },
    {
      "cell_type": "code",
      "metadata": {
        "id": "Ci_Rhe51rp80"
      },
      "source": [
        "df_1.set_index('date', drop=True, inplace=True)"
      ],
      "execution_count": 12,
      "outputs": []
    },
    {
      "cell_type": "code",
      "metadata": {
        "colab": {
          "base_uri": "https://localhost:8080/",
          "height": 581
        },
        "id": "kh1xZMIGryrd",
        "outputId": "a23b5a63-91fa-4ab3-8edc-9ad235a03810"
      },
      "source": [
        "sns.set()\n",
        "fig, axes = plt.subplots(ncols=2, figsize=(12,8))\n",
        "\n",
        "sns.lineplot(data=df_1, x=df_1.index, y='total_cases', ax=axes[0], ci=None, color='red')\n",
        "axes[0].set_title('Serie temporal: Número de casos COVID-19')\n",
        "axes[0].set_ylabel('Número de casos')\n",
        "axes[0].set_xlabel('Data')\n",
        "sns.lineplot(data=df_1, x=df_1.index, y='total_deaths', ax=axes[1], ci=None)\n",
        "axes[1].set_title('Serie temporal: Número de óbitos COVID-19')\n",
        "axes[1].set_ylabel('Número de óbitos')\n",
        "axes[1].set_xlabel('Data')\n",
        "\n",
        "fig.autofmt_xdate()\n",
        "plt.tight_layout()"
      ],
      "execution_count": 13,
      "outputs": [
        {
          "output_type": "display_data",
          "data": {
            "image/png": "[encoded data removed]",
            "text/plain": [
              "<Figure size 864x576 with 2 Axes>"
            ]
          },
          "metadata": {
            "tags": []
          }
        }
      ]
    },
    {
      "cell_type": "code",
      "metadata": {
        "colab": {
          "base_uri": "https://localhost:8080/"
        },
        "id": "cCLDBeumx214",
        "outputId": "cf8ccb53-152f-40f8-b625-1491ade1b243"
      },
      "source": [
        "print(df_1.total_cases.max(), df_1.total_deaths.max())"
      ],
      "execution_count": 14,
      "outputs": [
        {
          "output_type": "stream",
          "text": [
            "127644090.0 2791751.0\n"
          ],
          "name": "stdout"
        }
      ]
    },
    {
      "cell_type": "markdown",
      "metadata": {
        "id": "gfhNf2aCu4Mz"
      },
      "source": [
        "Análisando os gráficos acima é possível observar o assustador crescimento exponencial tanto dos número de casos, quanto ao número de casos.\n",
        "\n",
        "É possível verificar que não a redução na taxa de variação com o tempo, o que pode indicar que as medidas tomadas a respeito não foram as melhores possíveis. \n",
        "\n",
        "Na data atual, há 127.644.090 casos confirmados de COVID-19 e 2.791.751 de obitos."
      ]
    },
    {
      "cell_type": "markdown",
      "metadata": {
        "id": "fqwc8pQMwVdR"
      },
      "source": [
        "#Q2. Localidades com mais casos e obitos.\n"
      ]
    },
    {
      "cell_type": "code",
      "metadata": {
        "id": "jImXqXGzwcmM"
      },
      "source": [
        "df_2= df[['date','location', 'total_cases', 'total_deaths']].copy()\n",
        "df_2.reset_index(drop=True,inplace=True)"
      ],
      "execution_count": 15,
      "outputs": []
    },
    {
      "cell_type": "code",
      "metadata": {
        "id": "pi7KBeO8wTaG"
      },
      "source": [
        "top_cases=df_2.loc[df_2.date==df_2.date.max()].sort_values(by=['total_cases'], ascending=False).copy()\n",
        "top_deaths=df_2.loc[df_2.date==df_2.date.max()].sort_values(by=['total_deaths'], ascending=False).copy()"
      ],
      "execution_count": 16,
      "outputs": []
    },
    {
      "cell_type": "code",
      "metadata": {
        "id": "Czb7H90D4C5T"
      },
      "source": [
        "top_cases.reset_index(drop=True, inplace=True)"
      ],
      "execution_count": 17,
      "outputs": []
    },
    {
      "cell_type": "code",
      "metadata": {
        "id": "gxJG-E5kCl8V"
      },
      "source": [
        "top_deaths.reset_index(drop=True, inplace=True)"
      ],
      "execution_count": 18,
      "outputs": []
    },
    {
      "cell_type": "code",
      "metadata": {
        "colab": {
          "base_uri": "https://localhost:8080/",
          "height": 343
        },
        "id": "XjbyHbsoxHum",
        "outputId": "fc44d1c0-435f-49fb-e84a-313e08c449a6"
      },
      "source": [
        "top_cases.head(10)"
      ],
      "execution_count": 19,
      "outputs": [
        {
          "output_type": "execute_result",
          "data": {
            "text/html": [
              "<div>\n",
              "<style scoped>\n",
              "    .dataframe tbody tr th:only-of-type {\n",
              "        vertical-align: middle;\n",
              "    }\n",
              "\n",
              "    .dataframe tbody tr th {\n",
              "        vertical-align: top;\n",
              "    }\n",
              "\n",
              "    .dataframe thead th {\n",
              "        text-align: right;\n",
              "    }\n",
              "</style>\n",
              "<table border=\"1\" class=\"dataframe\">\n",
              "  <thead>\n",
              "    <tr style=\"text-align: right;\">\n",
              "      <th></th>\n",
              "      <th>date</th>\n",
              "      <th>location</th>\n",
              "      <th>total_cases</th>\n",
              "      <th>total_deaths</th>\n",
              "    </tr>\n",
              "  </thead>\n",
              "  <tbody>\n",
              "    <tr>\n",
              "      <th>0</th>\n",
              "      <td>2021-03-29</td>\n",
              "      <td>World</td>\n",
              "      <td>127644090.0</td>\n",
              "      <td>2791751.0</td>\n",
              "    </tr>\n",
              "    <tr>\n",
              "      <th>1</th>\n",
              "      <td>2021-03-29</td>\n",
              "      <td>Europe</td>\n",
              "      <td>39387528.0</td>\n",
              "      <td>907223.0</td>\n",
              "    </tr>\n",
              "    <tr>\n",
              "      <th>2</th>\n",
              "      <td>2021-03-29</td>\n",
              "      <td>North America</td>\n",
              "      <td>34974926.0</td>\n",
              "      <td>802694.0</td>\n",
              "    </tr>\n",
              "    <tr>\n",
              "      <th>3</th>\n",
              "      <td>2021-03-29</td>\n",
              "      <td>United States</td>\n",
              "      <td>30331794.0</td>\n",
              "      <td>550036.0</td>\n",
              "    </tr>\n",
              "    <tr>\n",
              "      <th>4</th>\n",
              "      <td>2021-03-29</td>\n",
              "      <td>Asia</td>\n",
              "      <td>28162561.0</td>\n",
              "      <td>425366.0</td>\n",
              "    </tr>\n",
              "    <tr>\n",
              "      <th>5</th>\n",
              "      <td>2021-03-29</td>\n",
              "      <td>European Union</td>\n",
              "      <td>26407342.0</td>\n",
              "      <td>611171.0</td>\n",
              "    </tr>\n",
              "    <tr>\n",
              "      <th>6</th>\n",
              "      <td>2021-03-29</td>\n",
              "      <td>South America</td>\n",
              "      <td>20886319.0</td>\n",
              "      <td>543242.0</td>\n",
              "    </tr>\n",
              "    <tr>\n",
              "      <th>7</th>\n",
              "      <td>2021-03-29</td>\n",
              "      <td>Brazil</td>\n",
              "      <td>12573615.0</td>\n",
              "      <td>313866.0</td>\n",
              "    </tr>\n",
              "    <tr>\n",
              "      <th>8</th>\n",
              "      <td>2021-03-29</td>\n",
              "      <td>India</td>\n",
              "      <td>12095855.0</td>\n",
              "      <td>162114.0</td>\n",
              "    </tr>\n",
              "    <tr>\n",
              "      <th>9</th>\n",
              "      <td>2021-03-29</td>\n",
              "      <td>France</td>\n",
              "      <td>4615295.0</td>\n",
              "      <td>95114.0</td>\n",
              "    </tr>\n",
              "  </tbody>\n",
              "</table>\n",
              "</div>"
            ],
            "text/plain": [
              "        date        location  total_cases  total_deaths\n",
              "0 2021-03-29           World  127644090.0     2791751.0\n",
              "1 2021-03-29          Europe   39387528.0      907223.0\n",
              "2 2021-03-29   North America   34974926.0      802694.0\n",
              "3 2021-03-29   United States   30331794.0      550036.0\n",
              "4 2021-03-29            Asia   28162561.0      425366.0\n",
              "5 2021-03-29  European Union   26407342.0      611171.0\n",
              "6 2021-03-29   South America   20886319.0      543242.0\n",
              "7 2021-03-29          Brazil   12573615.0      313866.0\n",
              "8 2021-03-29           India   12095855.0      162114.0\n",
              "9 2021-03-29          France    4615295.0       95114.0"
            ]
          },
          "metadata": {
            "tags": []
          },
          "execution_count": 19
        }
      ]
    },
    {
      "cell_type": "code",
      "metadata": {
        "colab": {
          "base_uri": "https://localhost:8080/",
          "height": 343
        },
        "id": "0j8d26qqCrrz",
        "outputId": "36bf4bdf-5f33-491b-c516-2f25d4739d7c"
      },
      "source": [
        "top_deaths.head(10)"
      ],
      "execution_count": 20,
      "outputs": [
        {
          "output_type": "execute_result",
          "data": {
            "text/html": [
              "<div>\n",
              "<style scoped>\n",
              "    .dataframe tbody tr th:only-of-type {\n",
              "        vertical-align: middle;\n",
              "    }\n",
              "\n",
              "    .dataframe tbody tr th {\n",
              "        vertical-align: top;\n",
              "    }\n",
              "\n",
              "    .dataframe thead th {\n",
              "        text-align: right;\n",
              "    }\n",
              "</style>\n",
              "<table border=\"1\" class=\"dataframe\">\n",
              "  <thead>\n",
              "    <tr style=\"text-align: right;\">\n",
              "      <th></th>\n",
              "      <th>date</th>\n",
              "      <th>location</th>\n",
              "      <th>total_cases</th>\n",
              "      <th>total_deaths</th>\n",
              "    </tr>\n",
              "  </thead>\n",
              "  <tbody>\n",
              "    <tr>\n",
              "      <th>0</th>\n",
              "      <td>2021-03-29</td>\n",
              "      <td>World</td>\n",
              "      <td>127644090.0</td>\n",
              "      <td>2791751.0</td>\n",
              "    </tr>\n",
              "    <tr>\n",
              "      <th>1</th>\n",
              "      <td>2021-03-29</td>\n",
              "      <td>Europe</td>\n",
              "      <td>39387528.0</td>\n",
              "      <td>907223.0</td>\n",
              "    </tr>\n",
              "    <tr>\n",
              "      <th>2</th>\n",
              "      <td>2021-03-29</td>\n",
              "      <td>North America</td>\n",
              "      <td>34974926.0</td>\n",
              "      <td>802694.0</td>\n",
              "    </tr>\n",
              "    <tr>\n",
              "      <th>3</th>\n",
              "      <td>2021-03-29</td>\n",
              "      <td>European Union</td>\n",
              "      <td>26407342.0</td>\n",
              "      <td>611171.0</td>\n",
              "    </tr>\n",
              "    <tr>\n",
              "      <th>4</th>\n",
              "      <td>2021-03-29</td>\n",
              "      <td>United States</td>\n",
              "      <td>30331794.0</td>\n",
              "      <td>550036.0</td>\n",
              "    </tr>\n",
              "    <tr>\n",
              "      <th>5</th>\n",
              "      <td>2021-03-29</td>\n",
              "      <td>South America</td>\n",
              "      <td>20886319.0</td>\n",
              "      <td>543242.0</td>\n",
              "    </tr>\n",
              "    <tr>\n",
              "      <th>6</th>\n",
              "      <td>2021-03-29</td>\n",
              "      <td>Asia</td>\n",
              "      <td>28162561.0</td>\n",
              "      <td>425366.0</td>\n",
              "    </tr>\n",
              "    <tr>\n",
              "      <th>7</th>\n",
              "      <td>2021-03-29</td>\n",
              "      <td>Brazil</td>\n",
              "      <td>12573615.0</td>\n",
              "      <td>313866.0</td>\n",
              "    </tr>\n",
              "    <tr>\n",
              "      <th>8</th>\n",
              "      <td>2021-03-29</td>\n",
              "      <td>Mexico</td>\n",
              "      <td>2227843.0</td>\n",
              "      <td>201832.0</td>\n",
              "    </tr>\n",
              "    <tr>\n",
              "      <th>9</th>\n",
              "      <td>2021-03-29</td>\n",
              "      <td>India</td>\n",
              "      <td>12095855.0</td>\n",
              "      <td>162114.0</td>\n",
              "    </tr>\n",
              "  </tbody>\n",
              "</table>\n",
              "</div>"
            ],
            "text/plain": [
              "        date        location  total_cases  total_deaths\n",
              "0 2021-03-29           World  127644090.0     2791751.0\n",
              "1 2021-03-29          Europe   39387528.0      907223.0\n",
              "2 2021-03-29   North America   34974926.0      802694.0\n",
              "3 2021-03-29  European Union   26407342.0      611171.0\n",
              "4 2021-03-29   United States   30331794.0      550036.0\n",
              "5 2021-03-29   South America   20886319.0      543242.0\n",
              "6 2021-03-29            Asia   28162561.0      425366.0\n",
              "7 2021-03-29          Brazil   12573615.0      313866.0\n",
              "8 2021-03-29          Mexico    2227843.0      201832.0\n",
              "9 2021-03-29           India   12095855.0      162114.0"
            ]
          },
          "metadata": {
            "tags": []
          },
          "execution_count": 20
        }
      ]
    },
    {
      "cell_type": "code",
      "metadata": {
        "id": "uWorbv2z7Dit"
      },
      "source": [
        "total_cases, total_deaths= top_cases.iloc[0].values[2:4]"
      ],
      "execution_count": 21,
      "outputs": []
    },
    {
      "cell_type": "code",
      "metadata": {
        "colab": {
          "base_uri": "https://localhost:8080/",
          "height": 402
        },
        "id": "e3VoXoknA1Tr",
        "outputId": "67fc5985-1af3-4e35-fc90-b08186a5f4d2"
      },
      "source": [
        "#Removendo EUA, União europeia e World\n",
        "top5_regioes_cases=top_cases.drop(index=[0,3,5])\n",
        "top5_regioes_cases"
      ],
      "execution_count": 22,
      "outputs": [
        {
          "output_type": "execute_result",
          "data": {
            "text/html": [
              "<div>\n",
              "<style scoped>\n",
              "    .dataframe tbody tr th:only-of-type {\n",
              "        vertical-align: middle;\n",
              "    }\n",
              "\n",
              "    .dataframe tbody tr th {\n",
              "        vertical-align: top;\n",
              "    }\n",
              "\n",
              "    .dataframe thead th {\n",
              "        text-align: right;\n",
              "    }\n",
              "</style>\n",
              "<table border=\"1\" class=\"dataframe\">\n",
              "  <thead>\n",
              "    <tr style=\"text-align: right;\">\n",
              "      <th></th>\n",
              "      <th>date</th>\n",
              "      <th>location</th>\n",
              "      <th>total_cases</th>\n",
              "      <th>total_deaths</th>\n",
              "    </tr>\n",
              "  </thead>\n",
              "  <tbody>\n",
              "    <tr>\n",
              "      <th>1</th>\n",
              "      <td>2021-03-29</td>\n",
              "      <td>Europe</td>\n",
              "      <td>39387528.0</td>\n",
              "      <td>907223.0</td>\n",
              "    </tr>\n",
              "    <tr>\n",
              "      <th>2</th>\n",
              "      <td>2021-03-29</td>\n",
              "      <td>North America</td>\n",
              "      <td>34974926.0</td>\n",
              "      <td>802694.0</td>\n",
              "    </tr>\n",
              "    <tr>\n",
              "      <th>4</th>\n",
              "      <td>2021-03-29</td>\n",
              "      <td>Asia</td>\n",
              "      <td>28162561.0</td>\n",
              "      <td>425366.0</td>\n",
              "    </tr>\n",
              "    <tr>\n",
              "      <th>6</th>\n",
              "      <td>2021-03-29</td>\n",
              "      <td>South America</td>\n",
              "      <td>20886319.0</td>\n",
              "      <td>543242.0</td>\n",
              "    </tr>\n",
              "    <tr>\n",
              "      <th>7</th>\n",
              "      <td>2021-03-29</td>\n",
              "      <td>Brazil</td>\n",
              "      <td>12573615.0</td>\n",
              "      <td>313866.0</td>\n",
              "    </tr>\n",
              "    <tr>\n",
              "      <th>...</th>\n",
              "      <td>...</td>\n",
              "      <td>...</td>\n",
              "      <td>...</td>\n",
              "      <td>...</td>\n",
              "    </tr>\n",
              "    <tr>\n",
              "      <th>198</th>\n",
              "      <td>2021-03-29</td>\n",
              "      <td>Micronesia (country)</td>\n",
              "      <td>1.0</td>\n",
              "      <td>NaN</td>\n",
              "    </tr>\n",
              "    <tr>\n",
              "      <th>199</th>\n",
              "      <td>2021-03-29</td>\n",
              "      <td>Cayman Islands</td>\n",
              "      <td>NaN</td>\n",
              "      <td>NaN</td>\n",
              "    </tr>\n",
              "    <tr>\n",
              "      <th>200</th>\n",
              "      <td>2021-03-29</td>\n",
              "      <td>Guernsey</td>\n",
              "      <td>NaN</td>\n",
              "      <td>NaN</td>\n",
              "    </tr>\n",
              "    <tr>\n",
              "      <th>201</th>\n",
              "      <td>2021-03-29</td>\n",
              "      <td>Hong Kong</td>\n",
              "      <td>NaN</td>\n",
              "      <td>NaN</td>\n",
              "    </tr>\n",
              "    <tr>\n",
              "      <th>202</th>\n",
              "      <td>2021-03-29</td>\n",
              "      <td>Macao</td>\n",
              "      <td>NaN</td>\n",
              "      <td>NaN</td>\n",
              "    </tr>\n",
              "  </tbody>\n",
              "</table>\n",
              "<p>200 rows × 4 columns</p>\n",
              "</div>"
            ],
            "text/plain": [
              "          date              location  total_cases  total_deaths\n",
              "1   2021-03-29                Europe   39387528.0      907223.0\n",
              "2   2021-03-29         North America   34974926.0      802694.0\n",
              "4   2021-03-29                  Asia   28162561.0      425366.0\n",
              "6   2021-03-29         South America   20886319.0      543242.0\n",
              "7   2021-03-29                Brazil   12573615.0      313866.0\n",
              "..         ...                   ...          ...           ...\n",
              "198 2021-03-29  Micronesia (country)          1.0           NaN\n",
              "199 2021-03-29        Cayman Islands          NaN           NaN\n",
              "200 2021-03-29              Guernsey          NaN           NaN\n",
              "201 2021-03-29             Hong Kong          NaN           NaN\n",
              "202 2021-03-29                 Macao          NaN           NaN\n",
              "\n",
              "[200 rows x 4 columns]"
            ]
          },
          "metadata": {
            "tags": []
          },
          "execution_count": 22
        }
      ]
    },
    {
      "cell_type": "code",
      "metadata": {
        "colab": {
          "base_uri": "https://localhost:8080/",
          "height": 195
        },
        "id": "DpDLdvdt52im",
        "outputId": "81f12b56-7d5d-4247-daee-c6383b79249b"
      },
      "source": [
        "#Removendo Eur, NA, World, asia, UEUR, SA\n",
        "top5_paises_cases=top_cases.drop(index=[0,1,2,4,5,6])\n",
        "top5_paises_cases.head()"
      ],
      "execution_count": 23,
      "outputs": [
        {
          "output_type": "execute_result",
          "data": {
            "text/html": [
              "<div>\n",
              "<style scoped>\n",
              "    .dataframe tbody tr th:only-of-type {\n",
              "        vertical-align: middle;\n",
              "    }\n",
              "\n",
              "    .dataframe tbody tr th {\n",
              "        vertical-align: top;\n",
              "    }\n",
              "\n",
              "    .dataframe thead th {\n",
              "        text-align: right;\n",
              "    }\n",
              "</style>\n",
              "<table border=\"1\" class=\"dataframe\">\n",
              "  <thead>\n",
              "    <tr style=\"text-align: right;\">\n",
              "      <th></th>\n",
              "      <th>date</th>\n",
              "      <th>location</th>\n",
              "      <th>total_cases</th>\n",
              "      <th>total_deaths</th>\n",
              "    </tr>\n",
              "  </thead>\n",
              "  <tbody>\n",
              "    <tr>\n",
              "      <th>3</th>\n",
              "      <td>2021-03-29</td>\n",
              "      <td>United States</td>\n",
              "      <td>30331794.0</td>\n",
              "      <td>550036.0</td>\n",
              "    </tr>\n",
              "    <tr>\n",
              "      <th>7</th>\n",
              "      <td>2021-03-29</td>\n",
              "      <td>Brazil</td>\n",
              "      <td>12573615.0</td>\n",
              "      <td>313866.0</td>\n",
              "    </tr>\n",
              "    <tr>\n",
              "      <th>8</th>\n",
              "      <td>2021-03-29</td>\n",
              "      <td>India</td>\n",
              "      <td>12095855.0</td>\n",
              "      <td>162114.0</td>\n",
              "    </tr>\n",
              "    <tr>\n",
              "      <th>9</th>\n",
              "      <td>2021-03-29</td>\n",
              "      <td>France</td>\n",
              "      <td>4615295.0</td>\n",
              "      <td>95114.0</td>\n",
              "    </tr>\n",
              "    <tr>\n",
              "      <th>10</th>\n",
              "      <td>2021-03-29</td>\n",
              "      <td>Russia</td>\n",
              "      <td>4477916.0</td>\n",
              "      <td>96413.0</td>\n",
              "    </tr>\n",
              "  </tbody>\n",
              "</table>\n",
              "</div>"
            ],
            "text/plain": [
              "         date       location  total_cases  total_deaths\n",
              "3  2021-03-29  United States   30331794.0      550036.0\n",
              "7  2021-03-29         Brazil   12573615.0      313866.0\n",
              "8  2021-03-29          India   12095855.0      162114.0\n",
              "9  2021-03-29         France    4615295.0       95114.0\n",
              "10 2021-03-29         Russia    4477916.0       96413.0"
            ]
          },
          "metadata": {
            "tags": []
          },
          "execution_count": 23
        }
      ]
    },
    {
      "cell_type": "code",
      "metadata": {
        "colab": {
          "base_uri": "https://localhost:8080/",
          "height": 195
        },
        "id": "s-P-tt9n39YI",
        "outputId": "4ebc7923-11af-4e2f-c6e1-b19f9503dd97"
      },
      "source": [
        "top5_regioes_cases.head()"
      ],
      "execution_count": 24,
      "outputs": [
        {
          "output_type": "execute_result",
          "data": {
            "text/html": [
              "<div>\n",
              "<style scoped>\n",
              "    .dataframe tbody tr th:only-of-type {\n",
              "        vertical-align: middle;\n",
              "    }\n",
              "\n",
              "    .dataframe tbody tr th {\n",
              "        vertical-align: top;\n",
              "    }\n",
              "\n",
              "    .dataframe thead th {\n",
              "        text-align: right;\n",
              "    }\n",
              "</style>\n",
              "<table border=\"1\" class=\"dataframe\">\n",
              "  <thead>\n",
              "    <tr style=\"text-align: right;\">\n",
              "      <th></th>\n",
              "      <th>date</th>\n",
              "      <th>location</th>\n",
              "      <th>total_cases</th>\n",
              "      <th>total_deaths</th>\n",
              "    </tr>\n",
              "  </thead>\n",
              "  <tbody>\n",
              "    <tr>\n",
              "      <th>1</th>\n",
              "      <td>2021-03-29</td>\n",
              "      <td>Europe</td>\n",
              "      <td>39387528.0</td>\n",
              "      <td>907223.0</td>\n",
              "    </tr>\n",
              "    <tr>\n",
              "      <th>2</th>\n",
              "      <td>2021-03-29</td>\n",
              "      <td>North America</td>\n",
              "      <td>34974926.0</td>\n",
              "      <td>802694.0</td>\n",
              "    </tr>\n",
              "    <tr>\n",
              "      <th>4</th>\n",
              "      <td>2021-03-29</td>\n",
              "      <td>Asia</td>\n",
              "      <td>28162561.0</td>\n",
              "      <td>425366.0</td>\n",
              "    </tr>\n",
              "    <tr>\n",
              "      <th>6</th>\n",
              "      <td>2021-03-29</td>\n",
              "      <td>South America</td>\n",
              "      <td>20886319.0</td>\n",
              "      <td>543242.0</td>\n",
              "    </tr>\n",
              "    <tr>\n",
              "      <th>7</th>\n",
              "      <td>2021-03-29</td>\n",
              "      <td>Brazil</td>\n",
              "      <td>12573615.0</td>\n",
              "      <td>313866.0</td>\n",
              "    </tr>\n",
              "  </tbody>\n",
              "</table>\n",
              "</div>"
            ],
            "text/plain": [
              "        date       location  total_cases  total_deaths\n",
              "1 2021-03-29         Europe   39387528.0      907223.0\n",
              "2 2021-03-29  North America   34974926.0      802694.0\n",
              "4 2021-03-29           Asia   28162561.0      425366.0\n",
              "6 2021-03-29  South America   20886319.0      543242.0\n",
              "7 2021-03-29         Brazil   12573615.0      313866.0"
            ]
          },
          "metadata": {
            "tags": []
          },
          "execution_count": 24
        }
      ]
    },
    {
      "cell_type": "code",
      "metadata": {
        "colab": {
          "base_uri": "https://localhost:8080/",
          "height": 195
        },
        "id": "5KZ7SEPCD-XK",
        "outputId": "762a52d3-9d02-48ca-dc7a-231b1d320994"
      },
      "source": [
        "#Mortes\n",
        "top5_regioes_deaths=top_deaths.drop(index=[0,3,4])\n",
        "top5_regioes_deaths.head()"
      ],
      "execution_count": 25,
      "outputs": [
        {
          "output_type": "execute_result",
          "data": {
            "text/html": [
              "<div>\n",
              "<style scoped>\n",
              "    .dataframe tbody tr th:only-of-type {\n",
              "        vertical-align: middle;\n",
              "    }\n",
              "\n",
              "    .dataframe tbody tr th {\n",
              "        vertical-align: top;\n",
              "    }\n",
              "\n",
              "    .dataframe thead th {\n",
              "        text-align: right;\n",
              "    }\n",
              "</style>\n",
              "<table border=\"1\" class=\"dataframe\">\n",
              "  <thead>\n",
              "    <tr style=\"text-align: right;\">\n",
              "      <th></th>\n",
              "      <th>date</th>\n",
              "      <th>location</th>\n",
              "      <th>total_cases</th>\n",
              "      <th>total_deaths</th>\n",
              "    </tr>\n",
              "  </thead>\n",
              "  <tbody>\n",
              "    <tr>\n",
              "      <th>1</th>\n",
              "      <td>2021-03-29</td>\n",
              "      <td>Europe</td>\n",
              "      <td>39387528.0</td>\n",
              "      <td>907223.0</td>\n",
              "    </tr>\n",
              "    <tr>\n",
              "      <th>2</th>\n",
              "      <td>2021-03-29</td>\n",
              "      <td>North America</td>\n",
              "      <td>34974926.0</td>\n",
              "      <td>802694.0</td>\n",
              "    </tr>\n",
              "    <tr>\n",
              "      <th>5</th>\n",
              "      <td>2021-03-29</td>\n",
              "      <td>South America</td>\n",
              "      <td>20886319.0</td>\n",
              "      <td>543242.0</td>\n",
              "    </tr>\n",
              "    <tr>\n",
              "      <th>6</th>\n",
              "      <td>2021-03-29</td>\n",
              "      <td>Asia</td>\n",
              "      <td>28162561.0</td>\n",
              "      <td>425366.0</td>\n",
              "    </tr>\n",
              "    <tr>\n",
              "      <th>7</th>\n",
              "      <td>2021-03-29</td>\n",
              "      <td>Brazil</td>\n",
              "      <td>12573615.0</td>\n",
              "      <td>313866.0</td>\n",
              "    </tr>\n",
              "  </tbody>\n",
              "</table>\n",
              "</div>"
            ],
            "text/plain": [
              "        date       location  total_cases  total_deaths\n",
              "1 2021-03-29         Europe   39387528.0      907223.0\n",
              "2 2021-03-29  North America   34974926.0      802694.0\n",
              "5 2021-03-29  South America   20886319.0      543242.0\n",
              "6 2021-03-29           Asia   28162561.0      425366.0\n",
              "7 2021-03-29         Brazil   12573615.0      313866.0"
            ]
          },
          "metadata": {
            "tags": []
          },
          "execution_count": 25
        }
      ]
    },
    {
      "cell_type": "code",
      "metadata": {
        "colab": {
          "base_uri": "https://localhost:8080/",
          "height": 195
        },
        "id": "n8-RufZdEIOd",
        "outputId": "83c9d6b9-9724-43f0-81a0-3bb2a1721eb0"
      },
      "source": [
        "top5_paises_deaths=top_deaths.drop(index=[0,1,3,2,5,6])\n",
        "top5_paises_deaths.head()"
      ],
      "execution_count": 26,
      "outputs": [
        {
          "output_type": "execute_result",
          "data": {
            "text/html": [
              "<div>\n",
              "<style scoped>\n",
              "    .dataframe tbody tr th:only-of-type {\n",
              "        vertical-align: middle;\n",
              "    }\n",
              "\n",
              "    .dataframe tbody tr th {\n",
              "        vertical-align: top;\n",
              "    }\n",
              "\n",
              "    .dataframe thead th {\n",
              "        text-align: right;\n",
              "    }\n",
              "</style>\n",
              "<table border=\"1\" class=\"dataframe\">\n",
              "  <thead>\n",
              "    <tr style=\"text-align: right;\">\n",
              "      <th></th>\n",
              "      <th>date</th>\n",
              "      <th>location</th>\n",
              "      <th>total_cases</th>\n",
              "      <th>total_deaths</th>\n",
              "    </tr>\n",
              "  </thead>\n",
              "  <tbody>\n",
              "    <tr>\n",
              "      <th>4</th>\n",
              "      <td>2021-03-29</td>\n",
              "      <td>United States</td>\n",
              "      <td>30331794.0</td>\n",
              "      <td>550036.0</td>\n",
              "    </tr>\n",
              "    <tr>\n",
              "      <th>7</th>\n",
              "      <td>2021-03-29</td>\n",
              "      <td>Brazil</td>\n",
              "      <td>12573615.0</td>\n",
              "      <td>313866.0</td>\n",
              "    </tr>\n",
              "    <tr>\n",
              "      <th>8</th>\n",
              "      <td>2021-03-29</td>\n",
              "      <td>Mexico</td>\n",
              "      <td>2227843.0</td>\n",
              "      <td>201832.0</td>\n",
              "    </tr>\n",
              "    <tr>\n",
              "      <th>9</th>\n",
              "      <td>2021-03-29</td>\n",
              "      <td>India</td>\n",
              "      <td>12095855.0</td>\n",
              "      <td>162114.0</td>\n",
              "    </tr>\n",
              "    <tr>\n",
              "      <th>10</th>\n",
              "      <td>2021-03-29</td>\n",
              "      <td>United Kingdom</td>\n",
              "      <td>4351796.0</td>\n",
              "      <td>126857.0</td>\n",
              "    </tr>\n",
              "  </tbody>\n",
              "</table>\n",
              "</div>"
            ],
            "text/plain": [
              "         date        location  total_cases  total_deaths\n",
              "4  2021-03-29   United States   30331794.0      550036.0\n",
              "7  2021-03-29          Brazil   12573615.0      313866.0\n",
              "8  2021-03-29          Mexico    2227843.0      201832.0\n",
              "9  2021-03-29           India   12095855.0      162114.0\n",
              "10 2021-03-29  United Kingdom    4351796.0      126857.0"
            ]
          },
          "metadata": {
            "tags": []
          },
          "execution_count": 26
        }
      ]
    },
    {
      "cell_type": "code",
      "metadata": {
        "colab": {
          "base_uri": "https://localhost:8080/",
          "height": 486
        },
        "id": "0Nsr8nBi4bPh",
        "outputId": "87844b7b-bfa2-4f22-c5ae-345ed5855835"
      },
      "source": [
        "fig, axes = plt.subplots(2,2,figsize=(16,8))\n",
        "#Casos por principais regiões\n",
        "sns.barplot(data=top5_regioes_cases[:4], x='location', y='total_cases', ax=axes[0][0], palette='mako')\n",
        "axes[0][0].set_title('Casos por principais regiões')\n",
        "axes[0][0].set_xlabel('Região')\n",
        "axes[0][0].set_ylabel('Total de casos')\n",
        "\n",
        "for p in axes[0][0].patches:\n",
        "    percentage = '{:.1f}%'.format(100 * p.get_height()/total_cases)\n",
        "    x = p.get_x() + p.get_width() / 2 - 0.05\n",
        "    y = p.get_y() + p.get_height()\n",
        "    axes[0][0].annotate(percentage, (x, y), size = 12)\n",
        "\n",
        "#5 países com mais casos \n",
        "sns.barplot(data=top5_paises_cases[:5], x='location', y='total_cases', ax=axes[0][1],palette='mako')\n",
        "axes[0][1].set_title('Países com mais casos')\n",
        "axes[0][1].set_xlabel('País')\n",
        "axes[0][1].set_ylabel('Total de casos')\n",
        "\n",
        "for p in axes[0][1].patches:\n",
        "    percentage = '{:.1f}%'.format(100 * p.get_height()/total_cases)\n",
        "    x = p.get_x() + p.get_width() / 2 - 0.05\n",
        "    y = p.get_y() + p.get_height()\n",
        "    axes[0][1].annotate(percentage, (x, y), size = 12)\n",
        "\n",
        "#Mortes por principais regiões\n",
        "sns.barplot(data=top5_regioes_deaths[:4], x='location', y='total_deaths', ax=axes[1][0], palette='rocket_r')\n",
        "axes[1][0].set_title('Óbitos por principais regiões')\n",
        "axes[1][0].set_xlabel('Região')\n",
        "axes[1][0].set_ylabel('Total de óbitos')\n",
        "\n",
        "for p in axes[1][0].patches:\n",
        "    percentage = '{:.1f}%'.format(100 * p.get_height()/total_deaths)\n",
        "    x = p.get_x() + p.get_width() / 2 - 0.05\n",
        "    y = p.get_y() + p.get_height()\n",
        "    axes[1][0].annotate(percentage, (x, y), size = 12)\n",
        "\n",
        "\n",
        "#5 países com mais óbitos\n",
        "sns.barplot(data=top5_paises_deaths[:5], x='location', y='total_deaths', ax=axes[1][1], palette='rocket_r')\n",
        "axes[1][1].set_title('Países com maiores números de óbitos')\n",
        "axes[1][1].set_xlabel('País')\n",
        "axes[1][1].set_ylabel('Total de óbitos')\n",
        "\n",
        "for p in axes[1][1].patches:\n",
        "    percentage = '{:.1f}%'.format(100 * p.get_height()/total_deaths)\n",
        "    x = p.get_x() + p.get_width() / 2 - 0.05\n",
        "    y = p.get_y() + p.get_height()\n",
        "    axes[1][1].annotate(percentage, (x, y), size = 12)\n",
        "\n",
        "plt.tight_layout()"
      ],
      "execution_count": 27,
      "outputs": [
        {
          "output_type": "display_data",
          "data": {
            "image/png": "[encoded data removed]",
            "text/plain": [
              "<Figure size 1152x576 with 4 Axes>"
            ]
          },
          "metadata": {
            "tags": []
          }
        }
      ]
    },
    {
      "cell_type": "markdown",
      "metadata": {
        "id": "5gk97aPXGTBQ"
      },
      "source": [
        "Pelos gráficos acima, compreende-se que a maior parte dos casos estão localizados na Europa (30,9%). No entanto, quando analisamos o gráfico em relação aos países, percebemos que o Estados Unidos lidera em número de casos com uma margem de 13,9% a frente do Brasil, que ocupa a segunda posição.\n",
        "\n",
        "A India, apesar de ocupar a 3º posição entre os países com mais casos, com uma diferença de 5.9% em relação ao 4º colocado, aparece na 4ª posição no gráfico dos países com maiores números de óbitos, 1.4% de casos a menos que o méxico, que antes não havia aparecido na relação dos países com maiores casos. \n",
        "\n",
        "Isso pode ser um indicativo que os países com mais casos não necessariamente terão mais obitos, outros fatores podem influenciar nessa questão, como idade, densidade populacional, questões de saúde, bem como quantidade de leitos disponíveis, entre outros fatores. \n",
        "\n",
        "Vamos realizar outras análises afim de obter maiores esclarecimentos."
      ]
    },
    {
      "cell_type": "markdown",
      "metadata": {
        "id": "I9jerSZuLwp0"
      },
      "source": [
        "#Q3. Quais fatores influenciam na relação de óbitos de um país?\n"
      ]
    },
    {
      "cell_type": "code",
      "metadata": {
        "id": "ohbuhfihGSCx"
      },
      "source": [
        "correlation_matrix=df[['total_deaths','hospital_beds_per_thousand', 'male_smokers','female_smokers','handwashing_facilities','aged_70_older','population_density','aged_65_older','gdp_per_capita','population_density','total_cases','total_vaccinations']].corr()"
      ],
      "execution_count": 28,
      "outputs": []
    },
    {
      "cell_type": "code",
      "metadata": {
        "colab": {
          "base_uri": "https://localhost:8080/",
          "height": 653
        },
        "id": "hKi9f4j5z9_B",
        "outputId": "5e0eed4a-69d9-4bef-a975-09d4be15307b"
      },
      "source": [
        "plt.subplots( figsize=(10,8))\n",
        "sns.heatmap(correlation_matrix, annot=True, fmt='.2f', cmap='BuPu')"
      ],
      "execution_count": 29,
      "outputs": [
        {
          "output_type": "execute_result",
          "data": {
            "text/plain": [
              "<matplotlib.axes._subplots.AxesSubplot at 0x7f455225ed50>"
            ]
          },
          "metadata": {
            "tags": []
          },
          "execution_count": 29
        },
        {
          "output_type": "display_data",
          "data": {
            "image/png": "[encoded data removed]",
            "text/plain": [
              "<Figure size 720x576 with 2 Axes>"
            ]
          },
          "metadata": {
            "tags": []
          }
        }
      ]
    },
    {
      "cell_type": "markdown",
      "metadata": {
        "id": "sPn-Beuf350N"
      },
      "source": [
        "Realizando uma análise estatística sobre algumas variáveis como parcela de fumantes masculinas e femininas, densidade populacional, produto interno bruto entre outras variáveis, percebe-se que diretamente, não há nenhuma correlação com o número de mortes. No entanto, é possível perceber correlações interessantes entre algumas outras variáveis, como uma correlação forte entre as variáveis `female_smokers`, `aged_70_older` e `aged_65_older`, o que pode ser um forte indicativo de que mulheres com idade mais elevada são mais sucetíveis a fumar, ou possuem uma maior dificuldade de abandonar o vício.\n",
        "\n",
        "Também é possível visualizar uma correlação moderada entre as variáveis `gdp_per_capita` e `handwashing_facilities` o que faz sentido. É de se esperar que países com maior PIB possua melhores condições de higiene. \n",
        "\n",
        "Apesar da variáveis não terem uma correlação direta com o número total de mortes, vale ressaltar que há grande possibilidade de que elas exerçam influência sobre. Possa ser que individualmente não tenham influência direta, mas combinadas podem trazer alguma relação mais forte, é o que se espera.\n",
        "\n",
        "Vale ressaltar que a correlação não implica em causalidade, pode existir outros fatores que influênciam o caso, como sitado acima. Apesar de ser um forte indicativo acerca de alguma relação existente entre variáveis. "
      ]
    },
    {
      "cell_type": "markdown",
      "metadata": {
        "id": "fg79lvAp-c7J"
      },
      "source": [
        "#Q4. Quais países tem melhor trabalhado em questão as vacinações?"
      ]
    },
    {
      "cell_type": "code",
      "metadata": {
        "id": "BErcZMIL-cWP"
      },
      "source": [
        "df_vac=df.loc[df.date==df.date.max(), ['date', 'location', 'total_vaccinations']].sort_values(by=['total_vaccinations', 'location'], ascending=False).reset_index(drop=True).copy()"
      ],
      "execution_count": 30,
      "outputs": []
    },
    {
      "cell_type": "code",
      "metadata": {
        "id": "nZcfRQQdAOg6"
      },
      "source": [
        "df_temp_vac=df[['date','total_vaccinations', 'total_cases']].copy()"
      ],
      "execution_count": 31,
      "outputs": []
    },
    {
      "cell_type": "code",
      "metadata": {
        "colab": {
          "base_uri": "https://localhost:8080/"
        },
        "id": "HNF-SIppN-6x",
        "outputId": "188930a9-1932-4f65-e93e-bfb1c432fe8c"
      },
      "source": [
        "total_vacs=df_vac['total_vaccinations'].values[0]\n",
        "total_vacs"
      ],
      "execution_count": 32,
      "outputs": [
        {
          "output_type": "execute_result",
          "data": {
            "text/plain": [
              "564561593.0"
            ]
          },
          "metadata": {
            "tags": []
          },
          "execution_count": 32
        }
      ]
    },
    {
      "cell_type": "code",
      "metadata": {
        "colab": {
          "base_uri": "https://localhost:8080/",
          "height": 343
        },
        "id": "uK7mX04rLm2Y",
        "outputId": "e19929f1-1075-4fe5-8b0a-1a65194b5ab6"
      },
      "source": [
        "df_vac.head(10)"
      ],
      "execution_count": 33,
      "outputs": [
        {
          "output_type": "execute_result",
          "data": {
            "text/html": [
              "<div>\n",
              "<style scoped>\n",
              "    .dataframe tbody tr th:only-of-type {\n",
              "        vertical-align: middle;\n",
              "    }\n",
              "\n",
              "    .dataframe tbody tr th {\n",
              "        vertical-align: top;\n",
              "    }\n",
              "\n",
              "    .dataframe thead th {\n",
              "        text-align: right;\n",
              "    }\n",
              "</style>\n",
              "<table border=\"1\" class=\"dataframe\">\n",
              "  <thead>\n",
              "    <tr style=\"text-align: right;\">\n",
              "      <th></th>\n",
              "      <th>date</th>\n",
              "      <th>location</th>\n",
              "      <th>total_vaccinations</th>\n",
              "    </tr>\n",
              "  </thead>\n",
              "  <tbody>\n",
              "    <tr>\n",
              "      <th>0</th>\n",
              "      <td>2021-03-29</td>\n",
              "      <td>World</td>\n",
              "      <td>564561593.0</td>\n",
              "    </tr>\n",
              "    <tr>\n",
              "      <th>1</th>\n",
              "      <td>2021-03-29</td>\n",
              "      <td>Asia</td>\n",
              "      <td>238068240.0</td>\n",
              "    </tr>\n",
              "    <tr>\n",
              "      <th>2</th>\n",
              "      <td>2021-03-29</td>\n",
              "      <td>North America</td>\n",
              "      <td>160232140.0</td>\n",
              "    </tr>\n",
              "    <tr>\n",
              "      <th>3</th>\n",
              "      <td>2021-03-29</td>\n",
              "      <td>United States</td>\n",
              "      <td>145812835.0</td>\n",
              "    </tr>\n",
              "    <tr>\n",
              "      <th>4</th>\n",
              "      <td>2021-03-29</td>\n",
              "      <td>Europe</td>\n",
              "      <td>120284594.0</td>\n",
              "    </tr>\n",
              "    <tr>\n",
              "      <th>5</th>\n",
              "      <td>2021-03-29</td>\n",
              "      <td>China</td>\n",
              "      <td>110962000.0</td>\n",
              "    </tr>\n",
              "    <tr>\n",
              "      <th>6</th>\n",
              "      <td>2021-03-29</td>\n",
              "      <td>European Union</td>\n",
              "      <td>69808192.0</td>\n",
              "    </tr>\n",
              "    <tr>\n",
              "      <th>7</th>\n",
              "      <td>2021-03-29</td>\n",
              "      <td>India</td>\n",
              "      <td>61113354.0</td>\n",
              "    </tr>\n",
              "    <tr>\n",
              "      <th>8</th>\n",
              "      <td>2021-03-29</td>\n",
              "      <td>South America</td>\n",
              "      <td>35410554.0</td>\n",
              "    </tr>\n",
              "    <tr>\n",
              "      <th>9</th>\n",
              "      <td>2021-03-29</td>\n",
              "      <td>Brazil</td>\n",
              "      <td>18082153.0</td>\n",
              "    </tr>\n",
              "  </tbody>\n",
              "</table>\n",
              "</div>"
            ],
            "text/plain": [
              "        date        location  total_vaccinations\n",
              "0 2021-03-29           World         564561593.0\n",
              "1 2021-03-29            Asia         238068240.0\n",
              "2 2021-03-29   North America         160232140.0\n",
              "3 2021-03-29   United States         145812835.0\n",
              "4 2021-03-29          Europe         120284594.0\n",
              "5 2021-03-29           China         110962000.0\n",
              "6 2021-03-29  European Union          69808192.0\n",
              "7 2021-03-29           India          61113354.0\n",
              "8 2021-03-29   South America          35410554.0\n",
              "9 2021-03-29          Brazil          18082153.0"
            ]
          },
          "metadata": {
            "tags": []
          },
          "execution_count": 33
        }
      ]
    },
    {
      "cell_type": "code",
      "metadata": {
        "id": "amczjjYtLC06"
      },
      "source": [
        "#Removendo celula World e de \"Continentes\"\n",
        "df_vac_top5_paises= df_vac.drop(index=[0,1,2,4,6,8],).copy()[:5]"
      ],
      "execution_count": 34,
      "outputs": []
    },
    {
      "cell_type": "code",
      "metadata": {
        "colab": {
          "base_uri": "https://localhost:8080/",
          "height": 195
        },
        "id": "j7zWXKxALC-F",
        "outputId": "34daca40-ef1e-4b71-908a-e6b2eaef4442"
      },
      "source": [
        "df_vac_top5_paises"
      ],
      "execution_count": 35,
      "outputs": [
        {
          "output_type": "execute_result",
          "data": {
            "text/html": [
              "<div>\n",
              "<style scoped>\n",
              "    .dataframe tbody tr th:only-of-type {\n",
              "        vertical-align: middle;\n",
              "    }\n",
              "\n",
              "    .dataframe tbody tr th {\n",
              "        vertical-align: top;\n",
              "    }\n",
              "\n",
              "    .dataframe thead th {\n",
              "        text-align: right;\n",
              "    }\n",
              "</style>\n",
              "<table border=\"1\" class=\"dataframe\">\n",
              "  <thead>\n",
              "    <tr style=\"text-align: right;\">\n",
              "      <th></th>\n",
              "      <th>date</th>\n",
              "      <th>location</th>\n",
              "      <th>total_vaccinations</th>\n",
              "    </tr>\n",
              "  </thead>\n",
              "  <tbody>\n",
              "    <tr>\n",
              "      <th>3</th>\n",
              "      <td>2021-03-29</td>\n",
              "      <td>United States</td>\n",
              "      <td>145812835.0</td>\n",
              "    </tr>\n",
              "    <tr>\n",
              "      <th>5</th>\n",
              "      <td>2021-03-29</td>\n",
              "      <td>China</td>\n",
              "      <td>110962000.0</td>\n",
              "    </tr>\n",
              "    <tr>\n",
              "      <th>7</th>\n",
              "      <td>2021-03-29</td>\n",
              "      <td>India</td>\n",
              "      <td>61113354.0</td>\n",
              "    </tr>\n",
              "    <tr>\n",
              "      <th>9</th>\n",
              "      <td>2021-03-29</td>\n",
              "      <td>Brazil</td>\n",
              "      <td>18082153.0</td>\n",
              "    </tr>\n",
              "    <tr>\n",
              "      <th>10</th>\n",
              "      <td>2021-03-29</td>\n",
              "      <td>Turkey</td>\n",
              "      <td>14949260.0</td>\n",
              "    </tr>\n",
              "  </tbody>\n",
              "</table>\n",
              "</div>"
            ],
            "text/plain": [
              "         date       location  total_vaccinations\n",
              "3  2021-03-29  United States         145812835.0\n",
              "5  2021-03-29          China         110962000.0\n",
              "7  2021-03-29          India          61113354.0\n",
              "9  2021-03-29         Brazil          18082153.0\n",
              "10 2021-03-29         Turkey          14949260.0"
            ]
          },
          "metadata": {
            "tags": []
          },
          "execution_count": 35
        }
      ]
    },
    {
      "cell_type": "code",
      "metadata": {
        "id": "cRmc3IbEOW1z"
      },
      "source": [
        "df_vac_top4_regioes= df_vac.drop(index=[0,3,5,6,7,9],).copy()[:4]"
      ],
      "execution_count": 36,
      "outputs": []
    },
    {
      "cell_type": "code",
      "metadata": {
        "colab": {
          "base_uri": "https://localhost:8080/",
          "height": 166
        },
        "id": "XBAQbhXsOnUW",
        "outputId": "963403b1-a248-4896-ad3b-206dfec4ea98"
      },
      "source": [
        "df_vac_top4_regioes"
      ],
      "execution_count": 37,
      "outputs": [
        {
          "output_type": "execute_result",
          "data": {
            "text/html": [
              "<div>\n",
              "<style scoped>\n",
              "    .dataframe tbody tr th:only-of-type {\n",
              "        vertical-align: middle;\n",
              "    }\n",
              "\n",
              "    .dataframe tbody tr th {\n",
              "        vertical-align: top;\n",
              "    }\n",
              "\n",
              "    .dataframe thead th {\n",
              "        text-align: right;\n",
              "    }\n",
              "</style>\n",
              "<table border=\"1\" class=\"dataframe\">\n",
              "  <thead>\n",
              "    <tr style=\"text-align: right;\">\n",
              "      <th></th>\n",
              "      <th>date</th>\n",
              "      <th>location</th>\n",
              "      <th>total_vaccinations</th>\n",
              "    </tr>\n",
              "  </thead>\n",
              "  <tbody>\n",
              "    <tr>\n",
              "      <th>1</th>\n",
              "      <td>2021-03-29</td>\n",
              "      <td>Asia</td>\n",
              "      <td>238068240.0</td>\n",
              "    </tr>\n",
              "    <tr>\n",
              "      <th>2</th>\n",
              "      <td>2021-03-29</td>\n",
              "      <td>North America</td>\n",
              "      <td>160232140.0</td>\n",
              "    </tr>\n",
              "    <tr>\n",
              "      <th>4</th>\n",
              "      <td>2021-03-29</td>\n",
              "      <td>Europe</td>\n",
              "      <td>120284594.0</td>\n",
              "    </tr>\n",
              "    <tr>\n",
              "      <th>8</th>\n",
              "      <td>2021-03-29</td>\n",
              "      <td>South America</td>\n",
              "      <td>35410554.0</td>\n",
              "    </tr>\n",
              "  </tbody>\n",
              "</table>\n",
              "</div>"
            ],
            "text/plain": [
              "        date       location  total_vaccinations\n",
              "1 2021-03-29           Asia         238068240.0\n",
              "2 2021-03-29  North America         160232140.0\n",
              "4 2021-03-29         Europe         120284594.0\n",
              "8 2021-03-29  South America          35410554.0"
            ]
          },
          "metadata": {
            "tags": []
          },
          "execution_count": 37
        }
      ]
    },
    {
      "cell_type": "code",
      "metadata": {
        "colab": {
          "base_uri": "https://localhost:8080/",
          "height": 516
        },
        "id": "ipVeNB8oNFY9",
        "outputId": "19df287f-4744-4ead-e38c-9587c6113ff1"
      },
      "source": [
        "fig, axes = plt.subplots(ncols=2,figsize=(15,8))\n",
        "#Vacinas por países\n",
        "sns.barplot(data=df_vac_top5_paises, x='location', y='total_vaccinations', ax=axes[0], palette='Spectral')\n",
        "axes[0].set_title('Países com mais vacinas administradas')\n",
        "axes[0].set_xlabel('Países')\n",
        "axes[0].set_ylabel('Total de Vacinas')\n",
        "\n",
        "for p in axes[0].patches:\n",
        "    percentage = '{:.1f}%'.format(100 * p.get_height()/total_vacs)\n",
        "    x = p.get_x() + p.get_width() / 2 - 0.05\n",
        "    y = p.get_y() + p.get_height()\n",
        "    axes[0].annotate(percentage, (x, y), size = 12)\n",
        "\n",
        "#Vacinas por regiões\n",
        "sns.barplot(data=df_vac_top4_regioes, x='location', y='total_vaccinations', ax=axes[1], palette='Spectral')\n",
        "axes[1].set_title('Regiões com mais vacinas administradas')\n",
        "axes[1].set_xlabel('Regiões')\n",
        "axes[1].set_ylabel('Total de Vacinas')\n",
        "\n",
        "for p in axes[1].patches:\n",
        "    percentage = '{:.1f}%'.format(100 * p.get_height()/total_vacs)\n",
        "    x = p.get_x() + p.get_width() / 2 - 0.05\n",
        "    y = p.get_y() + p.get_height()\n",
        "    axes[1].annotate(percentage, (x, y), size = 12)\n",
        "\n",
        "plt.tight_layout()"
      ],
      "execution_count": 38,
      "outputs": [
        {
          "output_type": "display_data",
          "data": {
            "image/png": "[encoded data removed]",
            "text/plain": [
              "<Figure size 1080x576 with 2 Axes>"
            ]
          },
          "metadata": {
            "tags": []
          }
        }
      ]
    },
    {
      "cell_type": "markdown",
      "metadata": {
        "id": "Ng9cXe4MRNDn"
      },
      "source": [
        "Comparando os gráficos acima com os analisados anteriormente a respeito de número de casos e óbitos, é possível perceber algumas semelhanças. O países, Estados Unidos, Brasil e Índia, que apareceram entre os países com mais casos e óbitos por COVID-19, aparecem agoram entre os países com maior quantidade de vacinas administradas, o que é faz total sentido, compreendedo a maior necessidade desses países de controlar o aumento dessas duas variáveis.\n",
        "\n",
        "Nesta análise, a china aparece em segundo lugar na relação de países com mais vacinas administradas, o que é totalmente compreensível, sabendo que o país possuí a patente de 4 vacinas já aprovadas. A Sinopharm (Aprovada para uso definitivo no país), CoronaVac e a Sinopharm-Wuhan autorizadas para uso emergencial e a Convidecia(para uso limitado por parte dos militares)."
      ]
    },
    {
      "cell_type": "code",
      "metadata": {
        "colab": {
          "base_uri": "https://localhost:8080/",
          "height": 581
        },
        "id": "ycby-Q2935SQ",
        "outputId": "6bb9178b-aae5-48ed-f680-185a101e051c"
      },
      "source": [
        "fig, ax =plt.subplots(figsize=(12,8))\n",
        "\n",
        "sns.lineplot(data=df, x='date', y='total_vaccinations', ax=ax, ci=None, label='Total Vacinas')\n",
        "sns.lineplot(data=df, x='date', y='total_cases', ax=ax, ci=None, label='Total casos')\n",
        "\n",
        "ax.properties()['children'][0].set_color('blue')\n",
        "ax.properties()['children'][1].set_color('orange')\n",
        "ax.legend(loc='best')\n",
        "ax.set_xlabel('Data')\n",
        "ax.set_ylabel('')\n",
        "ax.set_title('Relação entre número de casos e número de Vacinas administradas')\n",
        "\n",
        "fig.autofmt_xdate()\n",
        "plt.tight_layout()"
      ],
      "execution_count": 39,
      "outputs": [
        {
          "output_type": "display_data",
          "data": {
            "image/png": "[encoded data removed]",
            "text/plain": [
              "<Figure size 864x576 with 1 Axes>"
            ]
          },
          "metadata": {
            "tags": []
          }
        }
      ]
    },
    {
      "cell_type": "markdown",
      "metadata": {
        "id": "IsUHw6MbGAYe"
      },
      "source": [
        "Como visto no gráfico acima, o número de vacinas produzidas já é muito superior ao número de casos de COVID-19 (551.999.780 vacinas administradas, contra 1.271.85.164 casos), a principal questão no momento é a distribuição. Enquanto este problema não é sanado, resta manter o isolamento social, buscando seguir as orientações da OMS."
      ]
    },
    {
      "cell_type": "markdown",
      "metadata": {
        "id": "SViA5VZ7DYLA"
      },
      "source": [
        "### Comportamento do COVID-19 no Brasil\n"
      ]
    },
    {
      "cell_type": "code",
      "metadata": {
        "id": "p8bs685XAXQC"
      },
      "source": [
        "df_brasil = df.loc[df.location=='Brazil'].copy()"
      ],
      "execution_count": 40,
      "outputs": []
    },
    {
      "cell_type": "code",
      "metadata": {
        "id": "bVIDlPjDAi0d"
      },
      "source": [
        "frist_case=df_brasil.loc[df_brasil.total_cases==1].sort_values(by='date').reset_index(drop=True).copy()\n",
        "frist_death = df_brasil.loc[df_brasil.total_deaths==1].sort_values(by='date').reset_index(drop=True).copy()"
      ],
      "execution_count": 41,
      "outputs": []
    },
    {
      "cell_type": "code",
      "metadata": {
        "colab": {
          "base_uri": "https://localhost:8080/"
        },
        "id": "P5z30aVcCMyX",
        "outputId": "431309f0-7b6b-424d-a376-23caa6a7bd79"
      },
      "source": [
        "frist_case.iloc[0]['date']"
      ],
      "execution_count": 42,
      "outputs": [
        {
          "output_type": "execute_result",
          "data": {
            "text/plain": [
              "Timestamp('2020-02-26 00:00:00')"
            ]
          },
          "metadata": {
            "tags": []
          },
          "execution_count": 42
        }
      ]
    },
    {
      "cell_type": "code",
      "metadata": {
        "colab": {
          "base_uri": "https://localhost:8080/"
        },
        "id": "6WFmrJ2SNBm6",
        "outputId": "005820a1-75c4-4733-8516-0bb49ae5b8c3"
      },
      "source": [
        "frist_death.iloc[0]['date']"
      ],
      "execution_count": 43,
      "outputs": [
        {
          "output_type": "execute_result",
          "data": {
            "text/plain": [
              "Timestamp('2020-03-17 00:00:00')"
            ]
          },
          "metadata": {
            "tags": []
          },
          "execution_count": 43
        }
      ]
    },
    {
      "cell_type": "code",
      "metadata": {
        "colab": {
          "base_uri": "https://localhost:8080/"
        },
        "id": "OCa5OvRTOEhJ",
        "outputId": "fc8890fb-2dd6-4266-ab63-e3bdd98847ba"
      },
      "source": [
        "frist_death.iloc[0]['date']-frist_case.iloc[0]['date']"
      ],
      "execution_count": 44,
      "outputs": [
        {
          "output_type": "execute_result",
          "data": {
            "text/plain": [
              "Timedelta('20 days 00:00:00')"
            ]
          },
          "metadata": {
            "tags": []
          },
          "execution_count": 44
        }
      ]
    },
    {
      "cell_type": "markdown",
      "metadata": {
        "id": "vRmJLf-fOKVn"
      },
      "source": [
        "No Brasil, ouve uma diferença de 20 dias entre o primeiro caso e o primeiro óbito por COVID-19."
      ]
    },
    {
      "cell_type": "code",
      "metadata": {
        "id": "F5GhF39QOj35",
        "colab": {
          "base_uri": "https://localhost:8080/",
          "height": 581
        },
        "outputId": "3660f5fb-3031-4329-dbe6-cd1b8dec8a37"
      },
      "source": [
        "fig, ax = plt.subplots(figsize=(10,8))\n",
        "\n",
        "sns.lineplot(data=df_brasil, y='total_cases', x='date', ax=ax)\n",
        "ax.set_title('Serie temporal: número de casos no Brasil')\n",
        "ax.set_xlabel('Data')\n",
        "ax.set_ylabel('Total de Casos')\n",
        "\n",
        "fig.autofmt_xdate()\n",
        "plt.tight_layout()"
      ],
      "execution_count": 45,
      "outputs": [
        {
          "output_type": "display_data",
          "data": {
            "image/png": "[encoded data removed]",
            "text/plain": [
              "<Figure size 720x576 with 1 Axes>"
            ]
          },
          "metadata": {
            "tags": []
          }
        }
      ]
    },
    {
      "cell_type": "markdown",
      "metadata": {
        "id": "Iga9St0HQuWC"
      },
      "source": [
        "Como era de se esperar, o comportamento dos números de casos de COVID-19 assemelha-se com o restante do mundo apresentando também um crescimento de forma exponencial."
      ]
    },
    {
      "cell_type": "code",
      "metadata": {
        "id": "qfaLgiqgno0u"
      },
      "source": [
        "data={'Total de casos no Brasil': df_brasil.total_cases.max(),\n",
        "      'Total de casos no mundo': df.total_cases.max()\n",
        "      }\n",
        "data2={'Total de vacinas no Brasil': df_brasil.total_vaccinations.max(),\n",
        "      'Total de vacinas no mundo': df.total_vaccinations.max()\n",
        "      }"
      ],
      "execution_count": 89,
      "outputs": []
    },
    {
      "cell_type": "code",
      "metadata": {
        "id": "T5k96qJsvNrg",
        "colab": {
          "base_uri": "https://localhost:8080/",
          "height": 333
        },
        "outputId": "64e0b50f-582e-4a0a-c86d-149cf64635e6"
      },
      "source": [
        "fig = plt.figure(FigureClass=pywaffle.waffle.Waffle,\n",
        "                 figsize=(8,5),\n",
        "                 rows=4,\n",
        "                 columns =10,\n",
        "                 values=data,\n",
        "                 icons='heartbeat',\n",
        "                 font_size=30,\n",
        "                 colors=[\"#F63209\", \"#3479E5\"],\n",
        "                 legend={'loc':'upper left', 'bbox_to_anchor': (1, 1)})\n",
        "\n",
        "fig2 = plt.figure(FigureClass=pywaffle.waffle.Waffle,\n",
        "                 figsize=(8,5),\n",
        "                 rows=4,\n",
        "                 columns =10,\n",
        "                 values=data2,\n",
        "                 icons='medkit',\n",
        "                 font_size=30,\n",
        "                  colors=[\"#F63209\", \"#3479E5\"],\n",
        "                 legend={'loc':'upper left', 'bbox_to_anchor': (1, 1)})\n",
        "\n",
        "\n",
        "plt.tight_layout()"
      ],
      "execution_count": 93,
      "outputs": [
        {
          "output_type": "display_data",
          "data": {
            "image/png": "[encoded data removed]",
            "text/plain": [
              "<Waffle size 576x360 with 1 Axes>"
            ]
          },
          "metadata": {
            "tags": []
          }
        },
        {
          "output_type": "display_data",
          "data": {
            "image/png": "[encoded data removed]",
            "text/plain": [
              "<Waffle size 576x360 with 1 Axes>"
            ]
          },
          "metadata": {
            "tags": []
          }
        }
      ]
    },
    {
      "cell_type": "markdown",
      "metadata": {
        "id": "6dM81bfG2LVv"
      },
      "source": [
        "O Brasil detem 9,9% dos casos de COVID-19 em relação e 3,2% das vacinas em relação ao restante do mundo."
      ]
    },
    {
      "cell_type": "markdown",
      "metadata": {
        "id": "LCsiXvM3BcsO"
      },
      "source": [
        "## Conclusão\n",
        "\n",
        "Com as análises feitas é possível compreender o como da situação atual tem-se comportado. Apesar de ser possível realizar análises mais aprofundadas sobre a ocasião em questão, foge do escopo desse projeto que tem o intuito puramente de concintizar e esclarecer a população a respeito do momento que passamos. \n",
        "\n",
        "Apesar de parecer desesperador foi possível visualizar doses administradas das vacinas já supera o número de casos existentes. Entretanto, o problema em questão é sobre a forma de distruibuição. Os gráficos de países com mais casos e países com mais vacinas administradas sugeriram uma forte correlação entre ambos, que é confirmada com a matriz de correlação apresentada.\n",
        "\n",
        "Enquanto a vacina não chega para todos, é grande importância seguir as orientações disponibilizadas pela OMS. Evite aglomerações e use máscara. "
      ]
    },
    {
      "cell_type": "markdown",
      "metadata": {
        "id": "rr2iPvOE2gRE"
      },
      "source": [
        "#Referências\n",
        "\n",
        "*   http://www2.ebserh.gov.br/documents/17018/1378123/Boletim+T%C3%A9cnico+009+Incid%C3%AAncia+comparativa+da+COVID-19+entre+os+paises+05052020+%281%29.pdf/0ac29aaa-2443-47bd-a318-f252ff265589\n",
        "\n",
        "*   https://coronavirus.saude.gov.br/sobre-a-doenca#o-que-e-covid\n",
        "*   https://github.com/owid/covid-19-data/tree/master/public/data\n",
        "*   https://cultura.uol.com.br/noticias/15345_veja-quais-vacinas-foram-aprovadas-ao-redor-do-mundo.html\n",
        "*   Arroyo-Marioli F, Bullano F, Kucinskas S, Rondón-Moreno C (2021) Rastreamento R de COVID-19: Uma nova estimativa em tempo real usando o filtro Kalman. PLoS ONE 16(1): e0244474. https://doi.org/10.1371/journal.pone.0244474\n",
        "\n"
      ]
    },
    {
      "cell_type": "code",
      "metadata": {
        "id": "8cxmbv4YvNTp"
      },
      "source": [
        ""
      ],
      "execution_count": null,
      "outputs": []
    },
    {
      "cell_type": "code",
      "metadata": {
        "id": "VfD3TqdSOJqb"
      },
      "source": [
        ""
      ],
      "execution_count": null,
      "outputs": []
    }
  ]
}